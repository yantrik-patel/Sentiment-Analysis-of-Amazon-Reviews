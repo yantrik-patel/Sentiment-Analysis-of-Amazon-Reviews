{
  "metadata": {
    "kernelspec": {
      "language": "python",
      "display_name": "Python 3",
      "name": "python3"
    },
    "language_info": {
      "pygments_lexer": "ipython3",
      "nbconvert_exporter": "python",
      "version": "3.6.4",
      "file_extension": ".py",
      "codemirror_mode": {
        "name": "ipython",
        "version": 3
      },
      "name": "python",
      "mimetype": "text/x-python"
    },
    "colab": {
      "provenance": []
    },
    "widgets": {
      "application/vnd.jupyter.widget-state+json": {
        "9faeecad51ae4505949f9e96beef3c05": {
          "model_module": "@jupyter-widgets/controls",
          "model_name": "HBoxModel",
          "model_module_version": "1.5.0",
          "state": {
            "_dom_classes": [],
            "_model_module": "@jupyter-widgets/controls",
            "_model_module_version": "1.5.0",
            "_model_name": "HBoxModel",
            "_view_count": null,
            "_view_module": "@jupyter-widgets/controls",
            "_view_module_version": "1.5.0",
            "_view_name": "HBoxView",
            "box_style": "",
            "children": [
              "IPY_MODEL_461c11ed1a43468ea79fe096e3413171",
              "IPY_MODEL_593a1c5079684971bf49e0cea8225ca1",
              "IPY_MODEL_175cbcfd8e974b808c8bfcd47eaefbe0"
            ],
            "layout": "IPY_MODEL_a591437ae8bf4ccfacb68b4e3aa8e5a0"
          }
        },
        "461c11ed1a43468ea79fe096e3413171": {
          "model_module": "@jupyter-widgets/controls",
          "model_name": "HTMLModel",
          "model_module_version": "1.5.0",
          "state": {
            "_dom_classes": [],
            "_model_module": "@jupyter-widgets/controls",
            "_model_module_version": "1.5.0",
            "_model_name": "HTMLModel",
            "_view_count": null,
            "_view_module": "@jupyter-widgets/controls",
            "_view_module_version": "1.5.0",
            "_view_name": "HTMLView",
            "description": "",
            "description_tooltip": null,
            "layout": "IPY_MODEL_df5313d8239e4b418e7cfb026cfa29f9",
            "placeholder": "​",
            "style": "IPY_MODEL_a8e5722d787149e6a1a33dcab195f5c9",
            "value": "Downloading: 100%"
          }
        },
        "593a1c5079684971bf49e0cea8225ca1": {
          "model_module": "@jupyter-widgets/controls",
          "model_name": "FloatProgressModel",
          "model_module_version": "1.5.0",
          "state": {
            "_dom_classes": [],
            "_model_module": "@jupyter-widgets/controls",
            "_model_module_version": "1.5.0",
            "_model_name": "FloatProgressModel",
            "_view_count": null,
            "_view_module": "@jupyter-widgets/controls",
            "_view_module_version": "1.5.0",
            "_view_name": "ProgressView",
            "bar_style": "success",
            "description": "",
            "description_tooltip": null,
            "layout": "IPY_MODEL_d24319ea2e254945995464f59e0aebcd",
            "max": 39,
            "min": 0,
            "orientation": "horizontal",
            "style": "IPY_MODEL_99f12fd127ae4069a03cb6b2d46c4fe7",
            "value": 39
          }
        },
        "175cbcfd8e974b808c8bfcd47eaefbe0": {
          "model_module": "@jupyter-widgets/controls",
          "model_name": "HTMLModel",
          "model_module_version": "1.5.0",
          "state": {
            "_dom_classes": [],
            "_model_module": "@jupyter-widgets/controls",
            "_model_module_version": "1.5.0",
            "_model_name": "HTMLModel",
            "_view_count": null,
            "_view_module": "@jupyter-widgets/controls",
            "_view_module_version": "1.5.0",
            "_view_name": "HTMLView",
            "description": "",
            "description_tooltip": null,
            "layout": "IPY_MODEL_cb91268e512c41abb34f4c1ce86f53b2",
            "placeholder": "​",
            "style": "IPY_MODEL_82b250c13bb24ba986e181c182220bbd",
            "value": " 39.0/39.0 [00:00&lt;00:00, 1.25kB/s]"
          }
        },
        "a591437ae8bf4ccfacb68b4e3aa8e5a0": {
          "model_module": "@jupyter-widgets/base",
          "model_name": "LayoutModel",
          "model_module_version": "1.2.0",
          "state": {
            "_model_module": "@jupyter-widgets/base",
            "_model_module_version": "1.2.0",
            "_model_name": "LayoutModel",
            "_view_count": null,
            "_view_module": "@jupyter-widgets/base",
            "_view_module_version": "1.2.0",
            "_view_name": "LayoutView",
            "align_content": null,
            "align_items": null,
            "align_self": null,
            "border": null,
            "bottom": null,
            "display": null,
            "flex": null,
            "flex_flow": null,
            "grid_area": null,
            "grid_auto_columns": null,
            "grid_auto_flow": null,
            "grid_auto_rows": null,
            "grid_column": null,
            "grid_gap": null,
            "grid_row": null,
            "grid_template_areas": null,
            "grid_template_columns": null,
            "grid_template_rows": null,
            "height": null,
            "justify_content": null,
            "justify_items": null,
            "left": null,
            "margin": null,
            "max_height": null,
            "max_width": null,
            "min_height": null,
            "min_width": null,
            "object_fit": null,
            "object_position": null,
            "order": null,
            "overflow": null,
            "overflow_x": null,
            "overflow_y": null,
            "padding": null,
            "right": null,
            "top": null,
            "visibility": null,
            "width": null
          }
        },
        "df5313d8239e4b418e7cfb026cfa29f9": {
          "model_module": "@jupyter-widgets/base",
          "model_name": "LayoutModel",
          "model_module_version": "1.2.0",
          "state": {
            "_model_module": "@jupyter-widgets/base",
            "_model_module_version": "1.2.0",
            "_model_name": "LayoutModel",
            "_view_count": null,
            "_view_module": "@jupyter-widgets/base",
            "_view_module_version": "1.2.0",
            "_view_name": "LayoutView",
            "align_content": null,
            "align_items": null,
            "align_self": null,
            "border": null,
            "bottom": null,
            "display": null,
            "flex": null,
            "flex_flow": null,
            "grid_area": null,
            "grid_auto_columns": null,
            "grid_auto_flow": null,
            "grid_auto_rows": null,
            "grid_column": null,
            "grid_gap": null,
            "grid_row": null,
            "grid_template_areas": null,
            "grid_template_columns": null,
            "grid_template_rows": null,
            "height": null,
            "justify_content": null,
            "justify_items": null,
            "left": null,
            "margin": null,
            "max_height": null,
            "max_width": null,
            "min_height": null,
            "min_width": null,
            "object_fit": null,
            "object_position": null,
            "order": null,
            "overflow": null,
            "overflow_x": null,
            "overflow_y": null,
            "padding": null,
            "right": null,
            "top": null,
            "visibility": null,
            "width": null
          }
        },
        "a8e5722d787149e6a1a33dcab195f5c9": {
          "model_module": "@jupyter-widgets/controls",
          "model_name": "DescriptionStyleModel",
          "model_module_version": "1.5.0",
          "state": {
            "_model_module": "@jupyter-widgets/controls",
            "_model_module_version": "1.5.0",
            "_model_name": "DescriptionStyleModel",
            "_view_count": null,
            "_view_module": "@jupyter-widgets/base",
            "_view_module_version": "1.2.0",
            "_view_name": "StyleView",
            "description_width": ""
          }
        },
        "d24319ea2e254945995464f59e0aebcd": {
          "model_module": "@jupyter-widgets/base",
          "model_name": "LayoutModel",
          "model_module_version": "1.2.0",
          "state": {
            "_model_module": "@jupyter-widgets/base",
            "_model_module_version": "1.2.0",
            "_model_name": "LayoutModel",
            "_view_count": null,
            "_view_module": "@jupyter-widgets/base",
            "_view_module_version": "1.2.0",
            "_view_name": "LayoutView",
            "align_content": null,
            "align_items": null,
            "align_self": null,
            "border": null,
            "bottom": null,
            "display": null,
            "flex": null,
            "flex_flow": null,
            "grid_area": null,
            "grid_auto_columns": null,
            "grid_auto_flow": null,
            "grid_auto_rows": null,
            "grid_column": null,
            "grid_gap": null,
            "grid_row": null,
            "grid_template_areas": null,
            "grid_template_columns": null,
            "grid_template_rows": null,
            "height": null,
            "justify_content": null,
            "justify_items": null,
            "left": null,
            "margin": null,
            "max_height": null,
            "max_width": null,
            "min_height": null,
            "min_width": null,
            "object_fit": null,
            "object_position": null,
            "order": null,
            "overflow": null,
            "overflow_x": null,
            "overflow_y": null,
            "padding": null,
            "right": null,
            "top": null,
            "visibility": null,
            "width": null
          }
        },
        "99f12fd127ae4069a03cb6b2d46c4fe7": {
          "model_module": "@jupyter-widgets/controls",
          "model_name": "ProgressStyleModel",
          "model_module_version": "1.5.0",
          "state": {
            "_model_module": "@jupyter-widgets/controls",
            "_model_module_version": "1.5.0",
            "_model_name": "ProgressStyleModel",
            "_view_count": null,
            "_view_module": "@jupyter-widgets/base",
            "_view_module_version": "1.2.0",
            "_view_name": "StyleView",
            "bar_color": null,
            "description_width": ""
          }
        },
        "cb91268e512c41abb34f4c1ce86f53b2": {
          "model_module": "@jupyter-widgets/base",
          "model_name": "LayoutModel",
          "model_module_version": "1.2.0",
          "state": {
            "_model_module": "@jupyter-widgets/base",
            "_model_module_version": "1.2.0",
            "_model_name": "LayoutModel",
            "_view_count": null,
            "_view_module": "@jupyter-widgets/base",
            "_view_module_version": "1.2.0",
            "_view_name": "LayoutView",
            "align_content": null,
            "align_items": null,
            "align_self": null,
            "border": null,
            "bottom": null,
            "display": null,
            "flex": null,
            "flex_flow": null,
            "grid_area": null,
            "grid_auto_columns": null,
            "grid_auto_flow": null,
            "grid_auto_rows": null,
            "grid_column": null,
            "grid_gap": null,
            "grid_row": null,
            "grid_template_areas": null,
            "grid_template_columns": null,
            "grid_template_rows": null,
            "height": null,
            "justify_content": null,
            "justify_items": null,
            "left": null,
            "margin": null,
            "max_height": null,
            "max_width": null,
            "min_height": null,
            "min_width": null,
            "object_fit": null,
            "object_position": null,
            "order": null,
            "overflow": null,
            "overflow_x": null,
            "overflow_y": null,
            "padding": null,
            "right": null,
            "top": null,
            "visibility": null,
            "width": null
          }
        },
        "82b250c13bb24ba986e181c182220bbd": {
          "model_module": "@jupyter-widgets/controls",
          "model_name": "DescriptionStyleModel",
          "model_module_version": "1.5.0",
          "state": {
            "_model_module": "@jupyter-widgets/controls",
            "_model_module_version": "1.5.0",
            "_model_name": "DescriptionStyleModel",
            "_view_count": null,
            "_view_module": "@jupyter-widgets/base",
            "_view_module_version": "1.2.0",
            "_view_name": "StyleView",
            "description_width": ""
          }
        },
        "1086e92fc1ff416fae3cd218a99254d1": {
          "model_module": "@jupyter-widgets/controls",
          "model_name": "HBoxModel",
          "model_module_version": "1.5.0",
          "state": {
            "_dom_classes": [],
            "_model_module": "@jupyter-widgets/controls",
            "_model_module_version": "1.5.0",
            "_model_name": "HBoxModel",
            "_view_count": null,
            "_view_module": "@jupyter-widgets/controls",
            "_view_module_version": "1.5.0",
            "_view_name": "HBoxView",
            "box_style": "",
            "children": [
              "IPY_MODEL_43d86577a21e424494bd6d2c1f188b9f",
              "IPY_MODEL_a302b7e200b54b3caa23f8c9f321565f",
              "IPY_MODEL_eedd9426ed324c13878b182671454d8a"
            ],
            "layout": "IPY_MODEL_43cf216c44024bc8aac414978d1a6bb8"
          }
        },
        "43d86577a21e424494bd6d2c1f188b9f": {
          "model_module": "@jupyter-widgets/controls",
          "model_name": "HTMLModel",
          "model_module_version": "1.5.0",
          "state": {
            "_dom_classes": [],
            "_model_module": "@jupyter-widgets/controls",
            "_model_module_version": "1.5.0",
            "_model_name": "HTMLModel",
            "_view_count": null,
            "_view_module": "@jupyter-widgets/controls",
            "_view_module_version": "1.5.0",
            "_view_name": "HTMLView",
            "description": "",
            "description_tooltip": null,
            "layout": "IPY_MODEL_3c5ba96e15ce4b168a85cf8b1f7d746d",
            "placeholder": "​",
            "style": "IPY_MODEL_354dbfe121c64ed6b8fb997b90e2695f",
            "value": "Downloading: 100%"
          }
        },
        "a302b7e200b54b3caa23f8c9f321565f": {
          "model_module": "@jupyter-widgets/controls",
          "model_name": "FloatProgressModel",
          "model_module_version": "1.5.0",
          "state": {
            "_dom_classes": [],
            "_model_module": "@jupyter-widgets/controls",
            "_model_module_version": "1.5.0",
            "_model_name": "FloatProgressModel",
            "_view_count": null,
            "_view_module": "@jupyter-widgets/controls",
            "_view_module_version": "1.5.0",
            "_view_name": "ProgressView",
            "bar_style": "success",
            "description": "",
            "description_tooltip": null,
            "layout": "IPY_MODEL_6c3ff0f268c9489cb6c5e0701d9a7e0e",
            "max": 953,
            "min": 0,
            "orientation": "horizontal",
            "style": "IPY_MODEL_95d53e594d294a119ffb5cd72d7cb0ff",
            "value": 953
          }
        },
        "eedd9426ed324c13878b182671454d8a": {
          "model_module": "@jupyter-widgets/controls",
          "model_name": "HTMLModel",
          "model_module_version": "1.5.0",
          "state": {
            "_dom_classes": [],
            "_model_module": "@jupyter-widgets/controls",
            "_model_module_version": "1.5.0",
            "_model_name": "HTMLModel",
            "_view_count": null,
            "_view_module": "@jupyter-widgets/controls",
            "_view_module_version": "1.5.0",
            "_view_name": "HTMLView",
            "description": "",
            "description_tooltip": null,
            "layout": "IPY_MODEL_f771d1b7af9c4384824ebde4663ccee3",
            "placeholder": "​",
            "style": "IPY_MODEL_807aaf836f7e4a41b4f2c16336bb93ba",
            "value": " 953/953 [00:00&lt;00:00, 35.3kB/s]"
          }
        },
        "43cf216c44024bc8aac414978d1a6bb8": {
          "model_module": "@jupyter-widgets/base",
          "model_name": "LayoutModel",
          "model_module_version": "1.2.0",
          "state": {
            "_model_module": "@jupyter-widgets/base",
            "_model_module_version": "1.2.0",
            "_model_name": "LayoutModel",
            "_view_count": null,
            "_view_module": "@jupyter-widgets/base",
            "_view_module_version": "1.2.0",
            "_view_name": "LayoutView",
            "align_content": null,
            "align_items": null,
            "align_self": null,
            "border": null,
            "bottom": null,
            "display": null,
            "flex": null,
            "flex_flow": null,
            "grid_area": null,
            "grid_auto_columns": null,
            "grid_auto_flow": null,
            "grid_auto_rows": null,
            "grid_column": null,
            "grid_gap": null,
            "grid_row": null,
            "grid_template_areas": null,
            "grid_template_columns": null,
            "grid_template_rows": null,
            "height": null,
            "justify_content": null,
            "justify_items": null,
            "left": null,
            "margin": null,
            "max_height": null,
            "max_width": null,
            "min_height": null,
            "min_width": null,
            "object_fit": null,
            "object_position": null,
            "order": null,
            "overflow": null,
            "overflow_x": null,
            "overflow_y": null,
            "padding": null,
            "right": null,
            "top": null,
            "visibility": null,
            "width": null
          }
        },
        "3c5ba96e15ce4b168a85cf8b1f7d746d": {
          "model_module": "@jupyter-widgets/base",
          "model_name": "LayoutModel",
          "model_module_version": "1.2.0",
          "state": {
            "_model_module": "@jupyter-widgets/base",
            "_model_module_version": "1.2.0",
            "_model_name": "LayoutModel",
            "_view_count": null,
            "_view_module": "@jupyter-widgets/base",
            "_view_module_version": "1.2.0",
            "_view_name": "LayoutView",
            "align_content": null,
            "align_items": null,
            "align_self": null,
            "border": null,
            "bottom": null,
            "display": null,
            "flex": null,
            "flex_flow": null,
            "grid_area": null,
            "grid_auto_columns": null,
            "grid_auto_flow": null,
            "grid_auto_rows": null,
            "grid_column": null,
            "grid_gap": null,
            "grid_row": null,
            "grid_template_areas": null,
            "grid_template_columns": null,
            "grid_template_rows": null,
            "height": null,
            "justify_content": null,
            "justify_items": null,
            "left": null,
            "margin": null,
            "max_height": null,
            "max_width": null,
            "min_height": null,
            "min_width": null,
            "object_fit": null,
            "object_position": null,
            "order": null,
            "overflow": null,
            "overflow_x": null,
            "overflow_y": null,
            "padding": null,
            "right": null,
            "top": null,
            "visibility": null,
            "width": null
          }
        },
        "354dbfe121c64ed6b8fb997b90e2695f": {
          "model_module": "@jupyter-widgets/controls",
          "model_name": "DescriptionStyleModel",
          "model_module_version": "1.5.0",
          "state": {
            "_model_module": "@jupyter-widgets/controls",
            "_model_module_version": "1.5.0",
            "_model_name": "DescriptionStyleModel",
            "_view_count": null,
            "_view_module": "@jupyter-widgets/base",
            "_view_module_version": "1.2.0",
            "_view_name": "StyleView",
            "description_width": ""
          }
        },
        "6c3ff0f268c9489cb6c5e0701d9a7e0e": {
          "model_module": "@jupyter-widgets/base",
          "model_name": "LayoutModel",
          "model_module_version": "1.2.0",
          "state": {
            "_model_module": "@jupyter-widgets/base",
            "_model_module_version": "1.2.0",
            "_model_name": "LayoutModel",
            "_view_count": null,
            "_view_module": "@jupyter-widgets/base",
            "_view_module_version": "1.2.0",
            "_view_name": "LayoutView",
            "align_content": null,
            "align_items": null,
            "align_self": null,
            "border": null,
            "bottom": null,
            "display": null,
            "flex": null,
            "flex_flow": null,
            "grid_area": null,
            "grid_auto_columns": null,
            "grid_auto_flow": null,
            "grid_auto_rows": null,
            "grid_column": null,
            "grid_gap": null,
            "grid_row": null,
            "grid_template_areas": null,
            "grid_template_columns": null,
            "grid_template_rows": null,
            "height": null,
            "justify_content": null,
            "justify_items": null,
            "left": null,
            "margin": null,
            "max_height": null,
            "max_width": null,
            "min_height": null,
            "min_width": null,
            "object_fit": null,
            "object_position": null,
            "order": null,
            "overflow": null,
            "overflow_x": null,
            "overflow_y": null,
            "padding": null,
            "right": null,
            "top": null,
            "visibility": null,
            "width": null
          }
        },
        "95d53e594d294a119ffb5cd72d7cb0ff": {
          "model_module": "@jupyter-widgets/controls",
          "model_name": "ProgressStyleModel",
          "model_module_version": "1.5.0",
          "state": {
            "_model_module": "@jupyter-widgets/controls",
            "_model_module_version": "1.5.0",
            "_model_name": "ProgressStyleModel",
            "_view_count": null,
            "_view_module": "@jupyter-widgets/base",
            "_view_module_version": "1.2.0",
            "_view_name": "StyleView",
            "bar_color": null,
            "description_width": ""
          }
        },
        "f771d1b7af9c4384824ebde4663ccee3": {
          "model_module": "@jupyter-widgets/base",
          "model_name": "LayoutModel",
          "model_module_version": "1.2.0",
          "state": {
            "_model_module": "@jupyter-widgets/base",
            "_model_module_version": "1.2.0",
            "_model_name": "LayoutModel",
            "_view_count": null,
            "_view_module": "@jupyter-widgets/base",
            "_view_module_version": "1.2.0",
            "_view_name": "LayoutView",
            "align_content": null,
            "align_items": null,
            "align_self": null,
            "border": null,
            "bottom": null,
            "display": null,
            "flex": null,
            "flex_flow": null,
            "grid_area": null,
            "grid_auto_columns": null,
            "grid_auto_flow": null,
            "grid_auto_rows": null,
            "grid_column": null,
            "grid_gap": null,
            "grid_row": null,
            "grid_template_areas": null,
            "grid_template_columns": null,
            "grid_template_rows": null,
            "height": null,
            "justify_content": null,
            "justify_items": null,
            "left": null,
            "margin": null,
            "max_height": null,
            "max_width": null,
            "min_height": null,
            "min_width": null,
            "object_fit": null,
            "object_position": null,
            "order": null,
            "overflow": null,
            "overflow_x": null,
            "overflow_y": null,
            "padding": null,
            "right": null,
            "top": null,
            "visibility": null,
            "width": null
          }
        },
        "807aaf836f7e4a41b4f2c16336bb93ba": {
          "model_module": "@jupyter-widgets/controls",
          "model_name": "DescriptionStyleModel",
          "model_module_version": "1.5.0",
          "state": {
            "_model_module": "@jupyter-widgets/controls",
            "_model_module_version": "1.5.0",
            "_model_name": "DescriptionStyleModel",
            "_view_count": null,
            "_view_module": "@jupyter-widgets/base",
            "_view_module_version": "1.2.0",
            "_view_name": "StyleView",
            "description_width": ""
          }
        },
        "447d1da0142941fd8ebe2fd4be098b85": {
          "model_module": "@jupyter-widgets/controls",
          "model_name": "HBoxModel",
          "model_module_version": "1.5.0",
          "state": {
            "_dom_classes": [],
            "_model_module": "@jupyter-widgets/controls",
            "_model_module_version": "1.5.0",
            "_model_name": "HBoxModel",
            "_view_count": null,
            "_view_module": "@jupyter-widgets/controls",
            "_view_module_version": "1.5.0",
            "_view_name": "HBoxView",
            "box_style": "",
            "children": [
              "IPY_MODEL_2a8452526b8846769edd3ffb8cff0f90",
              "IPY_MODEL_587e8f6fc0b142af8bb3781b81406c41",
              "IPY_MODEL_517aabc3ca954fb6918129c5969330f8"
            ],
            "layout": "IPY_MODEL_e3aedb804e1647f4990c36e226a61f16"
          }
        },
        "2a8452526b8846769edd3ffb8cff0f90": {
          "model_module": "@jupyter-widgets/controls",
          "model_name": "HTMLModel",
          "model_module_version": "1.5.0",
          "state": {
            "_dom_classes": [],
            "_model_module": "@jupyter-widgets/controls",
            "_model_module_version": "1.5.0",
            "_model_name": "HTMLModel",
            "_view_count": null,
            "_view_module": "@jupyter-widgets/controls",
            "_view_module_version": "1.5.0",
            "_view_name": "HTMLView",
            "description": "",
            "description_tooltip": null,
            "layout": "IPY_MODEL_64833fd4f8dc449285ed10110ae194fe",
            "placeholder": "​",
            "style": "IPY_MODEL_e66dbbb7d21343d784627603d8c84f5c",
            "value": "Downloading: 100%"
          }
        },
        "587e8f6fc0b142af8bb3781b81406c41": {
          "model_module": "@jupyter-widgets/controls",
          "model_name": "FloatProgressModel",
          "model_module_version": "1.5.0",
          "state": {
            "_dom_classes": [],
            "_model_module": "@jupyter-widgets/controls",
            "_model_module_version": "1.5.0",
            "_model_name": "FloatProgressModel",
            "_view_count": null,
            "_view_module": "@jupyter-widgets/controls",
            "_view_module_version": "1.5.0",
            "_view_name": "ProgressView",
            "bar_style": "success",
            "description": "",
            "description_tooltip": null,
            "layout": "IPY_MODEL_4f4d17ee71a0478abc11f541edb78b34",
            "max": 871891,
            "min": 0,
            "orientation": "horizontal",
            "style": "IPY_MODEL_9de73da66ffa452fb8a9e9be6b87ed52",
            "value": 871891
          }
        },
        "517aabc3ca954fb6918129c5969330f8": {
          "model_module": "@jupyter-widgets/controls",
          "model_name": "HTMLModel",
          "model_module_version": "1.5.0",
          "state": {
            "_dom_classes": [],
            "_model_module": "@jupyter-widgets/controls",
            "_model_module_version": "1.5.0",
            "_model_name": "HTMLModel",
            "_view_count": null,
            "_view_module": "@jupyter-widgets/controls",
            "_view_module_version": "1.5.0",
            "_view_name": "HTMLView",
            "description": "",
            "description_tooltip": null,
            "layout": "IPY_MODEL_030bad8476b2443283fd41e44d0da83b",
            "placeholder": "​",
            "style": "IPY_MODEL_2a3d9fdf7b96498e96f426c12527ab25",
            "value": " 872k/872k [00:00&lt;00:00, 3.25MB/s]"
          }
        },
        "e3aedb804e1647f4990c36e226a61f16": {
          "model_module": "@jupyter-widgets/base",
          "model_name": "LayoutModel",
          "model_module_version": "1.2.0",
          "state": {
            "_model_module": "@jupyter-widgets/base",
            "_model_module_version": "1.2.0",
            "_model_name": "LayoutModel",
            "_view_count": null,
            "_view_module": "@jupyter-widgets/base",
            "_view_module_version": "1.2.0",
            "_view_name": "LayoutView",
            "align_content": null,
            "align_items": null,
            "align_self": null,
            "border": null,
            "bottom": null,
            "display": null,
            "flex": null,
            "flex_flow": null,
            "grid_area": null,
            "grid_auto_columns": null,
            "grid_auto_flow": null,
            "grid_auto_rows": null,
            "grid_column": null,
            "grid_gap": null,
            "grid_row": null,
            "grid_template_areas": null,
            "grid_template_columns": null,
            "grid_template_rows": null,
            "height": null,
            "justify_content": null,
            "justify_items": null,
            "left": null,
            "margin": null,
            "max_height": null,
            "max_width": null,
            "min_height": null,
            "min_width": null,
            "object_fit": null,
            "object_position": null,
            "order": null,
            "overflow": null,
            "overflow_x": null,
            "overflow_y": null,
            "padding": null,
            "right": null,
            "top": null,
            "visibility": null,
            "width": null
          }
        },
        "64833fd4f8dc449285ed10110ae194fe": {
          "model_module": "@jupyter-widgets/base",
          "model_name": "LayoutModel",
          "model_module_version": "1.2.0",
          "state": {
            "_model_module": "@jupyter-widgets/base",
            "_model_module_version": "1.2.0",
            "_model_name": "LayoutModel",
            "_view_count": null,
            "_view_module": "@jupyter-widgets/base",
            "_view_module_version": "1.2.0",
            "_view_name": "LayoutView",
            "align_content": null,
            "align_items": null,
            "align_self": null,
            "border": null,
            "bottom": null,
            "display": null,
            "flex": null,
            "flex_flow": null,
            "grid_area": null,
            "grid_auto_columns": null,
            "grid_auto_flow": null,
            "grid_auto_rows": null,
            "grid_column": null,
            "grid_gap": null,
            "grid_row": null,
            "grid_template_areas": null,
            "grid_template_columns": null,
            "grid_template_rows": null,
            "height": null,
            "justify_content": null,
            "justify_items": null,
            "left": null,
            "margin": null,
            "max_height": null,
            "max_width": null,
            "min_height": null,
            "min_width": null,
            "object_fit": null,
            "object_position": null,
            "order": null,
            "overflow": null,
            "overflow_x": null,
            "overflow_y": null,
            "padding": null,
            "right": null,
            "top": null,
            "visibility": null,
            "width": null
          }
        },
        "e66dbbb7d21343d784627603d8c84f5c": {
          "model_module": "@jupyter-widgets/controls",
          "model_name": "DescriptionStyleModel",
          "model_module_version": "1.5.0",
          "state": {
            "_model_module": "@jupyter-widgets/controls",
            "_model_module_version": "1.5.0",
            "_model_name": "DescriptionStyleModel",
            "_view_count": null,
            "_view_module": "@jupyter-widgets/base",
            "_view_module_version": "1.2.0",
            "_view_name": "StyleView",
            "description_width": ""
          }
        },
        "4f4d17ee71a0478abc11f541edb78b34": {
          "model_module": "@jupyter-widgets/base",
          "model_name": "LayoutModel",
          "model_module_version": "1.2.0",
          "state": {
            "_model_module": "@jupyter-widgets/base",
            "_model_module_version": "1.2.0",
            "_model_name": "LayoutModel",
            "_view_count": null,
            "_view_module": "@jupyter-widgets/base",
            "_view_module_version": "1.2.0",
            "_view_name": "LayoutView",
            "align_content": null,
            "align_items": null,
            "align_self": null,
            "border": null,
            "bottom": null,
            "display": null,
            "flex": null,
            "flex_flow": null,
            "grid_area": null,
            "grid_auto_columns": null,
            "grid_auto_flow": null,
            "grid_auto_rows": null,
            "grid_column": null,
            "grid_gap": null,
            "grid_row": null,
            "grid_template_areas": null,
            "grid_template_columns": null,
            "grid_template_rows": null,
            "height": null,
            "justify_content": null,
            "justify_items": null,
            "left": null,
            "margin": null,
            "max_height": null,
            "max_width": null,
            "min_height": null,
            "min_width": null,
            "object_fit": null,
            "object_position": null,
            "order": null,
            "overflow": null,
            "overflow_x": null,
            "overflow_y": null,
            "padding": null,
            "right": null,
            "top": null,
            "visibility": null,
            "width": null
          }
        },
        "9de73da66ffa452fb8a9e9be6b87ed52": {
          "model_module": "@jupyter-widgets/controls",
          "model_name": "ProgressStyleModel",
          "model_module_version": "1.5.0",
          "state": {
            "_model_module": "@jupyter-widgets/controls",
            "_model_module_version": "1.5.0",
            "_model_name": "ProgressStyleModel",
            "_view_count": null,
            "_view_module": "@jupyter-widgets/base",
            "_view_module_version": "1.2.0",
            "_view_name": "StyleView",
            "bar_color": null,
            "description_width": ""
          }
        },
        "030bad8476b2443283fd41e44d0da83b": {
          "model_module": "@jupyter-widgets/base",
          "model_name": "LayoutModel",
          "model_module_version": "1.2.0",
          "state": {
            "_model_module": "@jupyter-widgets/base",
            "_model_module_version": "1.2.0",
            "_model_name": "LayoutModel",
            "_view_count": null,
            "_view_module": "@jupyter-widgets/base",
            "_view_module_version": "1.2.0",
            "_view_name": "LayoutView",
            "align_content": null,
            "align_items": null,
            "align_self": null,
            "border": null,
            "bottom": null,
            "display": null,
            "flex": null,
            "flex_flow": null,
            "grid_area": null,
            "grid_auto_columns": null,
            "grid_auto_flow": null,
            "grid_auto_rows": null,
            "grid_column": null,
            "grid_gap": null,
            "grid_row": null,
            "grid_template_areas": null,
            "grid_template_columns": null,
            "grid_template_rows": null,
            "height": null,
            "justify_content": null,
            "justify_items": null,
            "left": null,
            "margin": null,
            "max_height": null,
            "max_width": null,
            "min_height": null,
            "min_width": null,
            "object_fit": null,
            "object_position": null,
            "order": null,
            "overflow": null,
            "overflow_x": null,
            "overflow_y": null,
            "padding": null,
            "right": null,
            "top": null,
            "visibility": null,
            "width": null
          }
        },
        "2a3d9fdf7b96498e96f426c12527ab25": {
          "model_module": "@jupyter-widgets/controls",
          "model_name": "DescriptionStyleModel",
          "model_module_version": "1.5.0",
          "state": {
            "_model_module": "@jupyter-widgets/controls",
            "_model_module_version": "1.5.0",
            "_model_name": "DescriptionStyleModel",
            "_view_count": null,
            "_view_module": "@jupyter-widgets/base",
            "_view_module_version": "1.2.0",
            "_view_name": "StyleView",
            "description_width": ""
          }
        },
        "53aa21c98b5b4e239135e487fba8e9ba": {
          "model_module": "@jupyter-widgets/controls",
          "model_name": "HBoxModel",
          "model_module_version": "1.5.0",
          "state": {
            "_dom_classes": [],
            "_model_module": "@jupyter-widgets/controls",
            "_model_module_version": "1.5.0",
            "_model_name": "HBoxModel",
            "_view_count": null,
            "_view_module": "@jupyter-widgets/controls",
            "_view_module_version": "1.5.0",
            "_view_name": "HBoxView",
            "box_style": "",
            "children": [
              "IPY_MODEL_b8b79278e77346a49fc376e1793aa7d9",
              "IPY_MODEL_d5b9e9ee43a844529d8a31270836c886",
              "IPY_MODEL_a94f8dd41e134cebbd0955c56c265bfe"
            ],
            "layout": "IPY_MODEL_56d81e9c985343d78f70ffbe25a55810"
          }
        },
        "b8b79278e77346a49fc376e1793aa7d9": {
          "model_module": "@jupyter-widgets/controls",
          "model_name": "HTMLModel",
          "model_module_version": "1.5.0",
          "state": {
            "_dom_classes": [],
            "_model_module": "@jupyter-widgets/controls",
            "_model_module_version": "1.5.0",
            "_model_name": "HTMLModel",
            "_view_count": null,
            "_view_module": "@jupyter-widgets/controls",
            "_view_module_version": "1.5.0",
            "_view_name": "HTMLView",
            "description": "",
            "description_tooltip": null,
            "layout": "IPY_MODEL_a1c1cc874e2448a8a6e07304082b11b6",
            "placeholder": "​",
            "style": "IPY_MODEL_bc70c0b38f7f4495a6d12028468b94ee",
            "value": "Downloading: 100%"
          }
        },
        "d5b9e9ee43a844529d8a31270836c886": {
          "model_module": "@jupyter-widgets/controls",
          "model_name": "FloatProgressModel",
          "model_module_version": "1.5.0",
          "state": {
            "_dom_classes": [],
            "_model_module": "@jupyter-widgets/controls",
            "_model_module_version": "1.5.0",
            "_model_name": "FloatProgressModel",
            "_view_count": null,
            "_view_module": "@jupyter-widgets/controls",
            "_view_module_version": "1.5.0",
            "_view_name": "ProgressView",
            "bar_style": "success",
            "description": "",
            "description_tooltip": null,
            "layout": "IPY_MODEL_1c65b9de93554cde80e6d4d328899915",
            "max": 112,
            "min": 0,
            "orientation": "horizontal",
            "style": "IPY_MODEL_50325cbcb7ae484cafd2c77654ad40cb",
            "value": 112
          }
        },
        "a94f8dd41e134cebbd0955c56c265bfe": {
          "model_module": "@jupyter-widgets/controls",
          "model_name": "HTMLModel",
          "model_module_version": "1.5.0",
          "state": {
            "_dom_classes": [],
            "_model_module": "@jupyter-widgets/controls",
            "_model_module_version": "1.5.0",
            "_model_name": "HTMLModel",
            "_view_count": null,
            "_view_module": "@jupyter-widgets/controls",
            "_view_module_version": "1.5.0",
            "_view_name": "HTMLView",
            "description": "",
            "description_tooltip": null,
            "layout": "IPY_MODEL_6253e19827854a0092d69a81aeae3efe",
            "placeholder": "​",
            "style": "IPY_MODEL_1a2e7ac59aa747c5abe150387bec783a",
            "value": " 112/112 [00:00&lt;00:00, 1.40kB/s]"
          }
        },
        "56d81e9c985343d78f70ffbe25a55810": {
          "model_module": "@jupyter-widgets/base",
          "model_name": "LayoutModel",
          "model_module_version": "1.2.0",
          "state": {
            "_model_module": "@jupyter-widgets/base",
            "_model_module_version": "1.2.0",
            "_model_name": "LayoutModel",
            "_view_count": null,
            "_view_module": "@jupyter-widgets/base",
            "_view_module_version": "1.2.0",
            "_view_name": "LayoutView",
            "align_content": null,
            "align_items": null,
            "align_self": null,
            "border": null,
            "bottom": null,
            "display": null,
            "flex": null,
            "flex_flow": null,
            "grid_area": null,
            "grid_auto_columns": null,
            "grid_auto_flow": null,
            "grid_auto_rows": null,
            "grid_column": null,
            "grid_gap": null,
            "grid_row": null,
            "grid_template_areas": null,
            "grid_template_columns": null,
            "grid_template_rows": null,
            "height": null,
            "justify_content": null,
            "justify_items": null,
            "left": null,
            "margin": null,
            "max_height": null,
            "max_width": null,
            "min_height": null,
            "min_width": null,
            "object_fit": null,
            "object_position": null,
            "order": null,
            "overflow": null,
            "overflow_x": null,
            "overflow_y": null,
            "padding": null,
            "right": null,
            "top": null,
            "visibility": null,
            "width": null
          }
        },
        "a1c1cc874e2448a8a6e07304082b11b6": {
          "model_module": "@jupyter-widgets/base",
          "model_name": "LayoutModel",
          "model_module_version": "1.2.0",
          "state": {
            "_model_module": "@jupyter-widgets/base",
            "_model_module_version": "1.2.0",
            "_model_name": "LayoutModel",
            "_view_count": null,
            "_view_module": "@jupyter-widgets/base",
            "_view_module_version": "1.2.0",
            "_view_name": "LayoutView",
            "align_content": null,
            "align_items": null,
            "align_self": null,
            "border": null,
            "bottom": null,
            "display": null,
            "flex": null,
            "flex_flow": null,
            "grid_area": null,
            "grid_auto_columns": null,
            "grid_auto_flow": null,
            "grid_auto_rows": null,
            "grid_column": null,
            "grid_gap": null,
            "grid_row": null,
            "grid_template_areas": null,
            "grid_template_columns": null,
            "grid_template_rows": null,
            "height": null,
            "justify_content": null,
            "justify_items": null,
            "left": null,
            "margin": null,
            "max_height": null,
            "max_width": null,
            "min_height": null,
            "min_width": null,
            "object_fit": null,
            "object_position": null,
            "order": null,
            "overflow": null,
            "overflow_x": null,
            "overflow_y": null,
            "padding": null,
            "right": null,
            "top": null,
            "visibility": null,
            "width": null
          }
        },
        "bc70c0b38f7f4495a6d12028468b94ee": {
          "model_module": "@jupyter-widgets/controls",
          "model_name": "DescriptionStyleModel",
          "model_module_version": "1.5.0",
          "state": {
            "_model_module": "@jupyter-widgets/controls",
            "_model_module_version": "1.5.0",
            "_model_name": "DescriptionStyleModel",
            "_view_count": null,
            "_view_module": "@jupyter-widgets/base",
            "_view_module_version": "1.2.0",
            "_view_name": "StyleView",
            "description_width": ""
          }
        },
        "1c65b9de93554cde80e6d4d328899915": {
          "model_module": "@jupyter-widgets/base",
          "model_name": "LayoutModel",
          "model_module_version": "1.2.0",
          "state": {
            "_model_module": "@jupyter-widgets/base",
            "_model_module_version": "1.2.0",
            "_model_name": "LayoutModel",
            "_view_count": null,
            "_view_module": "@jupyter-widgets/base",
            "_view_module_version": "1.2.0",
            "_view_name": "LayoutView",
            "align_content": null,
            "align_items": null,
            "align_self": null,
            "border": null,
            "bottom": null,
            "display": null,
            "flex": null,
            "flex_flow": null,
            "grid_area": null,
            "grid_auto_columns": null,
            "grid_auto_flow": null,
            "grid_auto_rows": null,
            "grid_column": null,
            "grid_gap": null,
            "grid_row": null,
            "grid_template_areas": null,
            "grid_template_columns": null,
            "grid_template_rows": null,
            "height": null,
            "justify_content": null,
            "justify_items": null,
            "left": null,
            "margin": null,
            "max_height": null,
            "max_width": null,
            "min_height": null,
            "min_width": null,
            "object_fit": null,
            "object_position": null,
            "order": null,
            "overflow": null,
            "overflow_x": null,
            "overflow_y": null,
            "padding": null,
            "right": null,
            "top": null,
            "visibility": null,
            "width": null
          }
        },
        "50325cbcb7ae484cafd2c77654ad40cb": {
          "model_module": "@jupyter-widgets/controls",
          "model_name": "ProgressStyleModel",
          "model_module_version": "1.5.0",
          "state": {
            "_model_module": "@jupyter-widgets/controls",
            "_model_module_version": "1.5.0",
            "_model_name": "ProgressStyleModel",
            "_view_count": null,
            "_view_module": "@jupyter-widgets/base",
            "_view_module_version": "1.2.0",
            "_view_name": "StyleView",
            "bar_color": null,
            "description_width": ""
          }
        },
        "6253e19827854a0092d69a81aeae3efe": {
          "model_module": "@jupyter-widgets/base",
          "model_name": "LayoutModel",
          "model_module_version": "1.2.0",
          "state": {
            "_model_module": "@jupyter-widgets/base",
            "_model_module_version": "1.2.0",
            "_model_name": "LayoutModel",
            "_view_count": null,
            "_view_module": "@jupyter-widgets/base",
            "_view_module_version": "1.2.0",
            "_view_name": "LayoutView",
            "align_content": null,
            "align_items": null,
            "align_self": null,
            "border": null,
            "bottom": null,
            "display": null,
            "flex": null,
            "flex_flow": null,
            "grid_area": null,
            "grid_auto_columns": null,
            "grid_auto_flow": null,
            "grid_auto_rows": null,
            "grid_column": null,
            "grid_gap": null,
            "grid_row": null,
            "grid_template_areas": null,
            "grid_template_columns": null,
            "grid_template_rows": null,
            "height": null,
            "justify_content": null,
            "justify_items": null,
            "left": null,
            "margin": null,
            "max_height": null,
            "max_width": null,
            "min_height": null,
            "min_width": null,
            "object_fit": null,
            "object_position": null,
            "order": null,
            "overflow": null,
            "overflow_x": null,
            "overflow_y": null,
            "padding": null,
            "right": null,
            "top": null,
            "visibility": null,
            "width": null
          }
        },
        "1a2e7ac59aa747c5abe150387bec783a": {
          "model_module": "@jupyter-widgets/controls",
          "model_name": "DescriptionStyleModel",
          "model_module_version": "1.5.0",
          "state": {
            "_model_module": "@jupyter-widgets/controls",
            "_model_module_version": "1.5.0",
            "_model_name": "DescriptionStyleModel",
            "_view_count": null,
            "_view_module": "@jupyter-widgets/base",
            "_view_module_version": "1.2.0",
            "_view_name": "StyleView",
            "description_width": ""
          }
        },
        "d2920f632b094112a1861f5251abb6da": {
          "model_module": "@jupyter-widgets/controls",
          "model_name": "HBoxModel",
          "model_module_version": "1.5.0",
          "state": {
            "_dom_classes": [],
            "_model_module": "@jupyter-widgets/controls",
            "_model_module_version": "1.5.0",
            "_model_name": "HBoxModel",
            "_view_count": null,
            "_view_module": "@jupyter-widgets/controls",
            "_view_module_version": "1.5.0",
            "_view_name": "HBoxView",
            "box_style": "",
            "children": [
              "IPY_MODEL_718867b866f44ad0a2ed0349be17caa5",
              "IPY_MODEL_4cc1fa3d23f04cec94319003f467c05a",
              "IPY_MODEL_ea6f7336851d4f43830334870e46fe03"
            ],
            "layout": "IPY_MODEL_f44c280599904df1b8ebb65c63c2e5a9"
          }
        },
        "718867b866f44ad0a2ed0349be17caa5": {
          "model_module": "@jupyter-widgets/controls",
          "model_name": "HTMLModel",
          "model_module_version": "1.5.0",
          "state": {
            "_dom_classes": [],
            "_model_module": "@jupyter-widgets/controls",
            "_model_module_version": "1.5.0",
            "_model_name": "HTMLModel",
            "_view_count": null,
            "_view_module": "@jupyter-widgets/controls",
            "_view_module_version": "1.5.0",
            "_view_name": "HTMLView",
            "description": "",
            "description_tooltip": null,
            "layout": "IPY_MODEL_16a833e96670449fa3f401a94ea37e0e",
            "placeholder": "​",
            "style": "IPY_MODEL_d02b48d710214c5b8f3cbc52099a6892",
            "value": "Downloading: 100%"
          }
        },
        "4cc1fa3d23f04cec94319003f467c05a": {
          "model_module": "@jupyter-widgets/controls",
          "model_name": "FloatProgressModel",
          "model_module_version": "1.5.0",
          "state": {
            "_dom_classes": [],
            "_model_module": "@jupyter-widgets/controls",
            "_model_module_version": "1.5.0",
            "_model_name": "FloatProgressModel",
            "_view_count": null,
            "_view_module": "@jupyter-widgets/controls",
            "_view_module_version": "1.5.0",
            "_view_name": "ProgressView",
            "bar_style": "success",
            "description": "",
            "description_tooltip": null,
            "layout": "IPY_MODEL_3e685a376d27471586cce0c2ddeb89ec",
            "max": 669491321,
            "min": 0,
            "orientation": "horizontal",
            "style": "IPY_MODEL_691f7c23d49b40eeb956fc583b0bd429",
            "value": 669491321
          }
        },
        "ea6f7336851d4f43830334870e46fe03": {
          "model_module": "@jupyter-widgets/controls",
          "model_name": "HTMLModel",
          "model_module_version": "1.5.0",
          "state": {
            "_dom_classes": [],
            "_model_module": "@jupyter-widgets/controls",
            "_model_module_version": "1.5.0",
            "_model_name": "HTMLModel",
            "_view_count": null,
            "_view_module": "@jupyter-widgets/controls",
            "_view_module_version": "1.5.0",
            "_view_name": "HTMLView",
            "description": "",
            "description_tooltip": null,
            "layout": "IPY_MODEL_1711138d725c4b1aa438ee8345a94329",
            "placeholder": "​",
            "style": "IPY_MODEL_512f3f15953449bdbae9307765023c25",
            "value": " 669M/669M [00:20&lt;00:00, 34.6MB/s]"
          }
        },
        "f44c280599904df1b8ebb65c63c2e5a9": {
          "model_module": "@jupyter-widgets/base",
          "model_name": "LayoutModel",
          "model_module_version": "1.2.0",
          "state": {
            "_model_module": "@jupyter-widgets/base",
            "_model_module_version": "1.2.0",
            "_model_name": "LayoutModel",
            "_view_count": null,
            "_view_module": "@jupyter-widgets/base",
            "_view_module_version": "1.2.0",
            "_view_name": "LayoutView",
            "align_content": null,
            "align_items": null,
            "align_self": null,
            "border": null,
            "bottom": null,
            "display": null,
            "flex": null,
            "flex_flow": null,
            "grid_area": null,
            "grid_auto_columns": null,
            "grid_auto_flow": null,
            "grid_auto_rows": null,
            "grid_column": null,
            "grid_gap": null,
            "grid_row": null,
            "grid_template_areas": null,
            "grid_template_columns": null,
            "grid_template_rows": null,
            "height": null,
            "justify_content": null,
            "justify_items": null,
            "left": null,
            "margin": null,
            "max_height": null,
            "max_width": null,
            "min_height": null,
            "min_width": null,
            "object_fit": null,
            "object_position": null,
            "order": null,
            "overflow": null,
            "overflow_x": null,
            "overflow_y": null,
            "padding": null,
            "right": null,
            "top": null,
            "visibility": null,
            "width": null
          }
        },
        "16a833e96670449fa3f401a94ea37e0e": {
          "model_module": "@jupyter-widgets/base",
          "model_name": "LayoutModel",
          "model_module_version": "1.2.0",
          "state": {
            "_model_module": "@jupyter-widgets/base",
            "_model_module_version": "1.2.0",
            "_model_name": "LayoutModel",
            "_view_count": null,
            "_view_module": "@jupyter-widgets/base",
            "_view_module_version": "1.2.0",
            "_view_name": "LayoutView",
            "align_content": null,
            "align_items": null,
            "align_self": null,
            "border": null,
            "bottom": null,
            "display": null,
            "flex": null,
            "flex_flow": null,
            "grid_area": null,
            "grid_auto_columns": null,
            "grid_auto_flow": null,
            "grid_auto_rows": null,
            "grid_column": null,
            "grid_gap": null,
            "grid_row": null,
            "grid_template_areas": null,
            "grid_template_columns": null,
            "grid_template_rows": null,
            "height": null,
            "justify_content": null,
            "justify_items": null,
            "left": null,
            "margin": null,
            "max_height": null,
            "max_width": null,
            "min_height": null,
            "min_width": null,
            "object_fit": null,
            "object_position": null,
            "order": null,
            "overflow": null,
            "overflow_x": null,
            "overflow_y": null,
            "padding": null,
            "right": null,
            "top": null,
            "visibility": null,
            "width": null
          }
        },
        "d02b48d710214c5b8f3cbc52099a6892": {
          "model_module": "@jupyter-widgets/controls",
          "model_name": "DescriptionStyleModel",
          "model_module_version": "1.5.0",
          "state": {
            "_model_module": "@jupyter-widgets/controls",
            "_model_module_version": "1.5.0",
            "_model_name": "DescriptionStyleModel",
            "_view_count": null,
            "_view_module": "@jupyter-widgets/base",
            "_view_module_version": "1.2.0",
            "_view_name": "StyleView",
            "description_width": ""
          }
        },
        "3e685a376d27471586cce0c2ddeb89ec": {
          "model_module": "@jupyter-widgets/base",
          "model_name": "LayoutModel",
          "model_module_version": "1.2.0",
          "state": {
            "_model_module": "@jupyter-widgets/base",
            "_model_module_version": "1.2.0",
            "_model_name": "LayoutModel",
            "_view_count": null,
            "_view_module": "@jupyter-widgets/base",
            "_view_module_version": "1.2.0",
            "_view_name": "LayoutView",
            "align_content": null,
            "align_items": null,
            "align_self": null,
            "border": null,
            "bottom": null,
            "display": null,
            "flex": null,
            "flex_flow": null,
            "grid_area": null,
            "grid_auto_columns": null,
            "grid_auto_flow": null,
            "grid_auto_rows": null,
            "grid_column": null,
            "grid_gap": null,
            "grid_row": null,
            "grid_template_areas": null,
            "grid_template_columns": null,
            "grid_template_rows": null,
            "height": null,
            "justify_content": null,
            "justify_items": null,
            "left": null,
            "margin": null,
            "max_height": null,
            "max_width": null,
            "min_height": null,
            "min_width": null,
            "object_fit": null,
            "object_position": null,
            "order": null,
            "overflow": null,
            "overflow_x": null,
            "overflow_y": null,
            "padding": null,
            "right": null,
            "top": null,
            "visibility": null,
            "width": null
          }
        },
        "691f7c23d49b40eeb956fc583b0bd429": {
          "model_module": "@jupyter-widgets/controls",
          "model_name": "ProgressStyleModel",
          "model_module_version": "1.5.0",
          "state": {
            "_model_module": "@jupyter-widgets/controls",
            "_model_module_version": "1.5.0",
            "_model_name": "ProgressStyleModel",
            "_view_count": null,
            "_view_module": "@jupyter-widgets/base",
            "_view_module_version": "1.2.0",
            "_view_name": "StyleView",
            "bar_color": null,
            "description_width": ""
          }
        },
        "1711138d725c4b1aa438ee8345a94329": {
          "model_module": "@jupyter-widgets/base",
          "model_name": "LayoutModel",
          "model_module_version": "1.2.0",
          "state": {
            "_model_module": "@jupyter-widgets/base",
            "_model_module_version": "1.2.0",
            "_model_name": "LayoutModel",
            "_view_count": null,
            "_view_module": "@jupyter-widgets/base",
            "_view_module_version": "1.2.0",
            "_view_name": "LayoutView",
            "align_content": null,
            "align_items": null,
            "align_self": null,
            "border": null,
            "bottom": null,
            "display": null,
            "flex": null,
            "flex_flow": null,
            "grid_area": null,
            "grid_auto_columns": null,
            "grid_auto_flow": null,
            "grid_auto_rows": null,
            "grid_column": null,
            "grid_gap": null,
            "grid_row": null,
            "grid_template_areas": null,
            "grid_template_columns": null,
            "grid_template_rows": null,
            "height": null,
            "justify_content": null,
            "justify_items": null,
            "left": null,
            "margin": null,
            "max_height": null,
            "max_width": null,
            "min_height": null,
            "min_width": null,
            "object_fit": null,
            "object_position": null,
            "order": null,
            "overflow": null,
            "overflow_x": null,
            "overflow_y": null,
            "padding": null,
            "right": null,
            "top": null,
            "visibility": null,
            "width": null
          }
        },
        "512f3f15953449bdbae9307765023c25": {
          "model_module": "@jupyter-widgets/controls",
          "model_name": "DescriptionStyleModel",
          "model_module_version": "1.5.0",
          "state": {
            "_model_module": "@jupyter-widgets/controls",
            "_model_module_version": "1.5.0",
            "_model_name": "DescriptionStyleModel",
            "_view_count": null,
            "_view_module": "@jupyter-widgets/base",
            "_view_module_version": "1.2.0",
            "_view_name": "StyleView",
            "description_width": ""
          }
        }
      }
    }
  },
  "nbformat_minor": 0,
  "nbformat": 4,
  "cells": [
    {
      "cell_type": "markdown",
      "source": [
        "# Web Scraping and Sentiment Analysis of 8 MilePi Pizza restaurant Reviews  \n",
        "\n",
        "In this project I have web scraped the 8 MilePi Pizza reviews on Yelp. It is a website for finding restaurants, homeservices etc. First, I have scraped the reviews using BeautifulSoup. Then for sentiment analysis, I have passed them through the state of the art NLP model BERT. BERT(Bidirectional Encoder Representation from Transformer) is NLP machine learning model pretrained by Google. Here the model is already trained on big data and we are using it to predict the sentiment related to our reviews scraped from the Yelp.com website. This is a good case of \"Transfer Learning\"."
      ],
      "metadata": {
        "id": "yM9tOOSSqGB3"
      }
    },
    {
      "cell_type": "markdown",
      "source": [
        "## 1. Install and Import Dependencies"
      ],
      "metadata": {
        "id": "pQ0dm-L7SQsy"
      }
    },
    {
      "cell_type": "code",
      "source": [
        "!pip install torch torchvision torchaudio"
      ],
      "metadata": {
        "execution": {
          "iopub.status.busy": "2022-12-31T07:12:38.535404Z",
          "iopub.execute_input": "2022-12-31T07:12:38.536218Z",
          "iopub.status.idle": "2022-12-31T07:12:51.064358Z",
          "shell.execute_reply.started": "2022-12-31T07:12:38.536185Z",
          "shell.execute_reply": "2022-12-31T07:12:51.062811Z"
        },
        "trusted": true,
        "colab": {
          "base_uri": "https://localhost:8080/"
        },
        "id": "ILkXGrxZSQtD",
        "outputId": "55762ee3-e409-48e0-ecbd-1f473027ca08"
      },
      "execution_count": 2,
      "outputs": [
        {
          "output_type": "stream",
          "name": "stdout",
          "text": [
            "Looking in indexes: https://pypi.org/simple, https://us-python.pkg.dev/colab-wheels/public/simple/\n",
            "Requirement already satisfied: torch in /usr/local/lib/python3.8/dist-packages (1.13.0+cu116)\n",
            "Requirement already satisfied: torchvision in /usr/local/lib/python3.8/dist-packages (0.14.0+cu116)\n",
            "Requirement already satisfied: torchaudio in /usr/local/lib/python3.8/dist-packages (0.13.0+cu116)\n",
            "Requirement already satisfied: typing-extensions in /usr/local/lib/python3.8/dist-packages (from torch) (4.4.0)\n",
            "Requirement already satisfied: numpy in /usr/local/lib/python3.8/dist-packages (from torchvision) (1.21.6)\n",
            "Requirement already satisfied: pillow!=8.3.*,>=5.3.0 in /usr/local/lib/python3.8/dist-packages (from torchvision) (7.1.2)\n",
            "Requirement already satisfied: requests in /usr/local/lib/python3.8/dist-packages (from torchvision) (2.23.0)\n",
            "Requirement already satisfied: certifi>=2017.4.17 in /usr/local/lib/python3.8/dist-packages (from requests->torchvision) (2022.12.7)\n",
            "Requirement already satisfied: idna<3,>=2.5 in /usr/local/lib/python3.8/dist-packages (from requests->torchvision) (2.10)\n",
            "Requirement already satisfied: chardet<4,>=3.0.2 in /usr/local/lib/python3.8/dist-packages (from requests->torchvision) (3.0.4)\n",
            "Requirement already satisfied: urllib3!=1.25.0,!=1.25.1,<1.26,>=1.21.1 in /usr/local/lib/python3.8/dist-packages (from requests->torchvision) (1.24.3)\n"
          ]
        }
      ]
    },
    {
      "cell_type": "code",
      "source": [
        "!pip install transformers requests beautifulsoup4 pandas numpy"
      ],
      "metadata": {
        "execution": {
          "iopub.status.busy": "2022-12-31T07:12:51.067059Z",
          "iopub.execute_input": "2022-12-31T07:12:51.067493Z",
          "iopub.status.idle": "2022-12-31T07:13:01.870406Z",
          "shell.execute_reply.started": "2022-12-31T07:12:51.067454Z",
          "shell.execute_reply": "2022-12-31T07:13:01.869056Z"
        },
        "trusted": true,
        "colab": {
          "base_uri": "https://localhost:8080/"
        },
        "id": "lYb8zEl6SQtK",
        "outputId": "66401da3-bdf1-41b6-9405-bf7d879944bd"
      },
      "execution_count": 3,
      "outputs": [
        {
          "output_type": "stream",
          "name": "stdout",
          "text": [
            "Looking in indexes: https://pypi.org/simple, https://us-python.pkg.dev/colab-wheels/public/simple/\n",
            "Collecting transformers\n",
            "  Downloading transformers-4.25.1-py3-none-any.whl (5.8 MB)\n",
            "\u001b[K     |████████████████████████████████| 5.8 MB 5.2 MB/s \n",
            "\u001b[?25hRequirement already satisfied: requests in /usr/local/lib/python3.8/dist-packages (2.23.0)\n",
            "Requirement already satisfied: beautifulsoup4 in /usr/local/lib/python3.8/dist-packages (4.6.3)\n",
            "Requirement already satisfied: pandas in /usr/local/lib/python3.8/dist-packages (1.3.5)\n",
            "Requirement already satisfied: numpy in /usr/local/lib/python3.8/dist-packages (1.21.6)\n",
            "Requirement already satisfied: filelock in /usr/local/lib/python3.8/dist-packages (from transformers) (3.8.2)\n",
            "Requirement already satisfied: packaging>=20.0 in /usr/local/lib/python3.8/dist-packages (from transformers) (21.3)\n",
            "Collecting tokenizers!=0.11.3,<0.14,>=0.11.1\n",
            "  Downloading tokenizers-0.13.2-cp38-cp38-manylinux_2_17_x86_64.manylinux2014_x86_64.whl (7.6 MB)\n",
            "\u001b[K     |████████████████████████████████| 7.6 MB 52.7 MB/s \n",
            "\u001b[?25hRequirement already satisfied: tqdm>=4.27 in /usr/local/lib/python3.8/dist-packages (from transformers) (4.64.1)\n",
            "Collecting huggingface-hub<1.0,>=0.10.0\n",
            "  Downloading huggingface_hub-0.11.1-py3-none-any.whl (182 kB)\n",
            "\u001b[K     |████████████████████████████████| 182 kB 69.3 MB/s \n",
            "\u001b[?25hRequirement already satisfied: pyyaml>=5.1 in /usr/local/lib/python3.8/dist-packages (from transformers) (6.0)\n",
            "Requirement already satisfied: regex!=2019.12.17 in /usr/local/lib/python3.8/dist-packages (from transformers) (2022.6.2)\n",
            "Requirement already satisfied: typing-extensions>=3.7.4.3 in /usr/local/lib/python3.8/dist-packages (from huggingface-hub<1.0,>=0.10.0->transformers) (4.4.0)\n",
            "Requirement already satisfied: pyparsing!=3.0.5,>=2.0.2 in /usr/local/lib/python3.8/dist-packages (from packaging>=20.0->transformers) (3.0.9)\n",
            "Requirement already satisfied: urllib3!=1.25.0,!=1.25.1,<1.26,>=1.21.1 in /usr/local/lib/python3.8/dist-packages (from requests) (1.24.3)\n",
            "Requirement already satisfied: chardet<4,>=3.0.2 in /usr/local/lib/python3.8/dist-packages (from requests) (3.0.4)\n",
            "Requirement already satisfied: certifi>=2017.4.17 in /usr/local/lib/python3.8/dist-packages (from requests) (2022.12.7)\n",
            "Requirement already satisfied: idna<3,>=2.5 in /usr/local/lib/python3.8/dist-packages (from requests) (2.10)\n",
            "Requirement already satisfied: python-dateutil>=2.7.3 in /usr/local/lib/python3.8/dist-packages (from pandas) (2.8.2)\n",
            "Requirement already satisfied: pytz>=2017.3 in /usr/local/lib/python3.8/dist-packages (from pandas) (2022.6)\n",
            "Requirement already satisfied: six>=1.5 in /usr/local/lib/python3.8/dist-packages (from python-dateutil>=2.7.3->pandas) (1.15.0)\n",
            "Installing collected packages: tokenizers, huggingface-hub, transformers\n",
            "Successfully installed huggingface-hub-0.11.1 tokenizers-0.13.2 transformers-4.25.1\n"
          ]
        }
      ]
    },
    {
      "cell_type": "code",
      "source": [
        "from transformers import AutoTokenizer, AutoModelForSequenceClassification\n",
        "import torch\n",
        "import requests\n",
        "from bs4 import BeautifulSoup\n",
        "import re\n",
        "import pandas as pd\n",
        "import numpy as np"
      ],
      "metadata": {
        "execution": {
          "iopub.status.busy": "2022-12-31T07:13:01.873112Z",
          "iopub.execute_input": "2022-12-31T07:13:01.873482Z",
          "iopub.status.idle": "2022-12-31T07:13:04.052127Z",
          "shell.execute_reply.started": "2022-12-31T07:13:01.873452Z",
          "shell.execute_reply": "2022-12-31T07:13:04.050869Z"
        },
        "trusted": true,
        "id": "TKGxIJp2SQtN"
      },
      "execution_count": 4,
      "outputs": []
    },
    {
      "cell_type": "markdown",
      "source": [
        "## 2. Instantiate Model"
      ],
      "metadata": {
        "id": "X7icwGc_SQtQ"
      }
    },
    {
      "cell_type": "code",
      "source": [
        "tokenizer = AutoTokenizer.from_pretrained('nlptown/bert-base-multilingual-uncased-sentiment')\n",
        "model = AutoModelForSequenceClassification.from_pretrained('nlptown/bert-base-multilingual-uncased-sentiment')"
      ],
      "metadata": {
        "execution": {
          "iopub.status.busy": "2022-12-31T07:13:04.055051Z",
          "iopub.execute_input": "2022-12-31T07:13:04.055660Z",
          "iopub.status.idle": "2022-12-31T07:13:28.099374Z",
          "shell.execute_reply.started": "2022-12-31T07:13:04.055628Z",
          "shell.execute_reply": "2022-12-31T07:13:28.098207Z"
        },
        "trusted": true,
        "colab": {
          "base_uri": "https://localhost:8080/",
          "height": 177,
          "referenced_widgets": [
            "9faeecad51ae4505949f9e96beef3c05",
            "461c11ed1a43468ea79fe096e3413171",
            "593a1c5079684971bf49e0cea8225ca1",
            "175cbcfd8e974b808c8bfcd47eaefbe0",
            "a591437ae8bf4ccfacb68b4e3aa8e5a0",
            "df5313d8239e4b418e7cfb026cfa29f9",
            "a8e5722d787149e6a1a33dcab195f5c9",
            "d24319ea2e254945995464f59e0aebcd",
            "99f12fd127ae4069a03cb6b2d46c4fe7",
            "cb91268e512c41abb34f4c1ce86f53b2",
            "82b250c13bb24ba986e181c182220bbd",
            "1086e92fc1ff416fae3cd218a99254d1",
            "43d86577a21e424494bd6d2c1f188b9f",
            "a302b7e200b54b3caa23f8c9f321565f",
            "eedd9426ed324c13878b182671454d8a",
            "43cf216c44024bc8aac414978d1a6bb8",
            "3c5ba96e15ce4b168a85cf8b1f7d746d",
            "354dbfe121c64ed6b8fb997b90e2695f",
            "6c3ff0f268c9489cb6c5e0701d9a7e0e",
            "95d53e594d294a119ffb5cd72d7cb0ff",
            "f771d1b7af9c4384824ebde4663ccee3",
            "807aaf836f7e4a41b4f2c16336bb93ba",
            "447d1da0142941fd8ebe2fd4be098b85",
            "2a8452526b8846769edd3ffb8cff0f90",
            "587e8f6fc0b142af8bb3781b81406c41",
            "517aabc3ca954fb6918129c5969330f8",
            "e3aedb804e1647f4990c36e226a61f16",
            "64833fd4f8dc449285ed10110ae194fe",
            "e66dbbb7d21343d784627603d8c84f5c",
            "4f4d17ee71a0478abc11f541edb78b34",
            "9de73da66ffa452fb8a9e9be6b87ed52",
            "030bad8476b2443283fd41e44d0da83b",
            "2a3d9fdf7b96498e96f426c12527ab25",
            "53aa21c98b5b4e239135e487fba8e9ba",
            "b8b79278e77346a49fc376e1793aa7d9",
            "d5b9e9ee43a844529d8a31270836c886",
            "a94f8dd41e134cebbd0955c56c265bfe",
            "56d81e9c985343d78f70ffbe25a55810",
            "a1c1cc874e2448a8a6e07304082b11b6",
            "bc70c0b38f7f4495a6d12028468b94ee",
            "1c65b9de93554cde80e6d4d328899915",
            "50325cbcb7ae484cafd2c77654ad40cb",
            "6253e19827854a0092d69a81aeae3efe",
            "1a2e7ac59aa747c5abe150387bec783a",
            "d2920f632b094112a1861f5251abb6da",
            "718867b866f44ad0a2ed0349be17caa5",
            "4cc1fa3d23f04cec94319003f467c05a",
            "ea6f7336851d4f43830334870e46fe03",
            "f44c280599904df1b8ebb65c63c2e5a9",
            "16a833e96670449fa3f401a94ea37e0e",
            "d02b48d710214c5b8f3cbc52099a6892",
            "3e685a376d27471586cce0c2ddeb89ec",
            "691f7c23d49b40eeb956fc583b0bd429",
            "1711138d725c4b1aa438ee8345a94329",
            "512f3f15953449bdbae9307765023c25"
          ]
        },
        "id": "S5zlCbJ7SQtR",
        "outputId": "05e63ee6-dd46-4001-9fd9-e6b2405b2279"
      },
      "execution_count": 5,
      "outputs": [
        {
          "output_type": "display_data",
          "data": {
            "text/plain": [
              "Downloading:   0%|          | 0.00/39.0 [00:00<?, ?B/s]"
            ],
            "application/vnd.jupyter.widget-view+json": {
              "version_major": 2,
              "version_minor": 0,
              "model_id": "9faeecad51ae4505949f9e96beef3c05"
            }
          },
          "metadata": {}
        },
        {
          "output_type": "display_data",
          "data": {
            "text/plain": [
              "Downloading:   0%|          | 0.00/953 [00:00<?, ?B/s]"
            ],
            "application/vnd.jupyter.widget-view+json": {
              "version_major": 2,
              "version_minor": 0,
              "model_id": "1086e92fc1ff416fae3cd218a99254d1"
            }
          },
          "metadata": {}
        },
        {
          "output_type": "display_data",
          "data": {
            "text/plain": [
              "Downloading:   0%|          | 0.00/872k [00:00<?, ?B/s]"
            ],
            "application/vnd.jupyter.widget-view+json": {
              "version_major": 2,
              "version_minor": 0,
              "model_id": "447d1da0142941fd8ebe2fd4be098b85"
            }
          },
          "metadata": {}
        },
        {
          "output_type": "display_data",
          "data": {
            "text/plain": [
              "Downloading:   0%|          | 0.00/112 [00:00<?, ?B/s]"
            ],
            "application/vnd.jupyter.widget-view+json": {
              "version_major": 2,
              "version_minor": 0,
              "model_id": "53aa21c98b5b4e239135e487fba8e9ba"
            }
          },
          "metadata": {}
        },
        {
          "output_type": "display_data",
          "data": {
            "text/plain": [
              "Downloading:   0%|          | 0.00/669M [00:00<?, ?B/s]"
            ],
            "application/vnd.jupyter.widget-view+json": {
              "version_major": 2,
              "version_minor": 0,
              "model_id": "d2920f632b094112a1861f5251abb6da"
            }
          },
          "metadata": {}
        }
      ]
    },
    {
      "cell_type": "markdown",
      "source": [
        "## 3. Encode and Calculate Sentiment"
      ],
      "metadata": {
        "id": "dAl4r6RQSQtT"
      }
    },
    {
      "cell_type": "code",
      "source": [
        "tokens = tokenizer.encode('I loved it, the pizza is very delicious', return_tensors = 'pt')"
      ],
      "metadata": {
        "execution": {
          "iopub.status.busy": "2022-12-31T07:13:28.104088Z",
          "iopub.execute_input": "2022-12-31T07:13:28.104800Z",
          "iopub.status.idle": "2022-12-31T07:13:28.124180Z",
          "shell.execute_reply.started": "2022-12-31T07:13:28.104761Z",
          "shell.execute_reply": "2022-12-31T07:13:28.121292Z"
        },
        "trusted": true,
        "id": "wPzWvaRKSQtV"
      },
      "execution_count": 6,
      "outputs": []
    },
    {
      "cell_type": "code",
      "source": [
        "tokens"
      ],
      "metadata": {
        "execution": {
          "iopub.status.busy": "2022-12-31T07:13:28.125772Z",
          "iopub.execute_input": "2022-12-31T07:13:28.127460Z",
          "iopub.status.idle": "2022-12-31T07:13:28.986808Z",
          "shell.execute_reply.started": "2022-12-31T07:13:28.127410Z",
          "shell.execute_reply": "2022-12-31T07:13:28.986006Z"
        },
        "trusted": true,
        "colab": {
          "base_uri": "https://localhost:8080/"
        },
        "id": "Bcgt0iBKSQtY",
        "outputId": "f70acd1d-4acf-49d9-c7c2-bffafa93677e"
      },
      "execution_count": 7,
      "outputs": [
        {
          "output_type": "execute_result",
          "data": {
            "text/plain": [
              "tensor([[  101,   151, 46747, 10197,   117, 10103, 59371, 10127, 12495, 27254,\n",
              "         47838,   102]])"
            ]
          },
          "metadata": {},
          "execution_count": 7
        }
      ]
    },
    {
      "cell_type": "code",
      "source": [
        "# we don't need this step but we can also decode the string\n",
        "tokenizer.decode(tokens[0])"
      ],
      "metadata": {
        "execution": {
          "iopub.status.busy": "2022-12-31T07:13:28.988222Z",
          "iopub.execute_input": "2022-12-31T07:13:28.988856Z",
          "iopub.status.idle": "2022-12-31T07:13:33.455182Z",
          "shell.execute_reply.started": "2022-12-31T07:13:28.988823Z",
          "shell.execute_reply": "2022-12-31T07:13:33.453092Z"
        },
        "trusted": true,
        "colab": {
          "base_uri": "https://localhost:8080/",
          "height": 35
        },
        "id": "G4V28BKHSQtb",
        "outputId": "5d1a7ad5-c24d-4ae7-b5f3-5bfc03b15073"
      },
      "execution_count": 8,
      "outputs": [
        {
          "output_type": "execute_result",
          "data": {
            "text/plain": [
              "'[CLS] i loved it, the pizza is very delicious [SEP]'"
            ],
            "application/vnd.google.colaboratory.intrinsic+json": {
              "type": "string"
            }
          },
          "metadata": {},
          "execution_count": 8
        }
      ]
    },
    {
      "cell_type": "code",
      "source": [
        "result = model(tokens)\n",
        "result"
      ],
      "metadata": {
        "execution": {
          "iopub.status.busy": "2022-12-31T07:13:33.456805Z",
          "iopub.execute_input": "2022-12-31T07:13:33.457483Z",
          "iopub.status.idle": "2022-12-31T07:13:33.626828Z",
          "shell.execute_reply.started": "2022-12-31T07:13:33.457439Z",
          "shell.execute_reply": "2022-12-31T07:13:33.625919Z"
        },
        "trusted": true,
        "colab": {
          "base_uri": "https://localhost:8080/"
        },
        "id": "f9p4hCe-SQtf",
        "outputId": "62daea91-fd66-4116-b01e-59871070ac8a"
      },
      "execution_count": 9,
      "outputs": [
        {
          "output_type": "execute_result",
          "data": {
            "text/plain": [
              "SequenceClassifierOutput(loss=None, logits=tensor([[-2.6552, -2.2700, -0.3486,  1.8020,  2.7059]],\n",
              "       grad_fn=<AddmmBackward0>), hidden_states=None, attentions=None)"
            ]
          },
          "metadata": {},
          "execution_count": 9
        }
      ]
    },
    {
      "cell_type": "markdown",
      "source": [
        "The above output from the model is a one-hot encoded list of scores. The position with the highest score represents the sentiment rating."
      ],
      "metadata": {
        "id": "48ruTxWeSQth"
      }
    },
    {
      "cell_type": "code",
      "source": [
        "result.logits"
      ],
      "metadata": {
        "execution": {
          "iopub.status.busy": "2022-12-31T07:13:33.628469Z",
          "iopub.execute_input": "2022-12-31T07:13:33.629341Z",
          "iopub.status.idle": "2022-12-31T07:13:34.838261Z",
          "shell.execute_reply.started": "2022-12-31T07:13:33.629288Z",
          "shell.execute_reply": "2022-12-31T07:13:34.837178Z"
        },
        "trusted": true,
        "colab": {
          "base_uri": "https://localhost:8080/"
        },
        "id": "mqJtVonLSQtj",
        "outputId": "fa9b67a8-7233-4205-f549-db050b21bbcf"
      },
      "execution_count": 10,
      "outputs": [
        {
          "output_type": "execute_result",
          "data": {
            "text/plain": [
              "tensor([[-2.6552, -2.2700, -0.3486,  1.8020,  2.7059]],\n",
              "       grad_fn=<AddmmBackward0>)"
            ]
          },
          "metadata": {},
          "execution_count": 10
        }
      ]
    },
    {
      "cell_type": "markdown",
      "source": [
        "torch.argmax will return the position of highest value from the tensor. As count starts from 0, I am adding +1 for better understanding"
      ],
      "metadata": {
        "id": "dWTU966mSQtl"
      }
    },
    {
      "cell_type": "code",
      "source": [
        "int(torch.argmax(result.logits))+1\n",
        "\n"
      ],
      "metadata": {
        "execution": {
          "iopub.status.busy": "2022-12-31T07:13:34.841417Z",
          "iopub.execute_input": "2022-12-31T07:13:34.841744Z",
          "iopub.status.idle": "2022-12-31T07:13:34.851863Z",
          "shell.execute_reply.started": "2022-12-31T07:13:34.841716Z",
          "shell.execute_reply": "2022-12-31T07:13:34.850718Z"
        },
        "trusted": true,
        "colab": {
          "base_uri": "https://localhost:8080/"
        },
        "id": "Ng7H1QTzSQtm",
        "outputId": "1e9f12f3-d6ae-46ba-f702-b85d4cf51ea2"
      },
      "execution_count": 11,
      "outputs": [
        {
          "output_type": "execute_result",
          "data": {
            "text/plain": [
              "5"
            ]
          },
          "metadata": {},
          "execution_count": 11
        }
      ]
    },
    {
      "cell_type": "markdown",
      "source": [
        "Now we have the number between 1 to 5. Higher the number the better is the sentiment and vice versa."
      ],
      "metadata": {
        "id": "TfjKHjOtSQtp"
      }
    },
    {
      "cell_type": "code",
      "source": [
        "# lets try this on one more review\n",
        "tokens_a = tokenizer.encode('It was the worst thing i have ever had', return_tensors = 'pt')\n",
        "result_a = model(tokens_a)\n",
        "int(torch.argmax(result_a.logits))+1"
      ],
      "metadata": {
        "execution": {
          "iopub.status.busy": "2022-12-31T07:29:36.618635Z",
          "iopub.execute_input": "2022-12-31T07:29:36.619244Z",
          "iopub.status.idle": "2022-12-31T07:29:36.742876Z",
          "shell.execute_reply.started": "2022-12-31T07:29:36.619129Z",
          "shell.execute_reply": "2022-12-31T07:29:36.741832Z"
        },
        "trusted": true,
        "colab": {
          "base_uri": "https://localhost:8080/"
        },
        "id": "I5c6tFksSQtr",
        "outputId": "953f7d14-d26b-4482-d8b9-8a3fc61aedf6"
      },
      "execution_count": 12,
      "outputs": [
        {
          "output_type": "execute_result",
          "data": {
            "text/plain": [
              "1"
            ]
          },
          "metadata": {},
          "execution_count": 12
        }
      ]
    },
    {
      "cell_type": "markdown",
      "source": [
        "## 4. Import Dataset having reviews"
      ],
      "metadata": {
        "id": "DTS9cy9iSQts"
      }
    },
    {
      "cell_type": "code",
      "source": [
        "r = requests.get('https://www.yelp.com/biz/8milepi-detroit-style-pizza-san-francisco-3')\n",
        "soup = BeautifulSoup(r.text,'html.parser')\n",
        "regex = re.compile('.*comment.*')\n",
        "results = soup.find_all('p',{'class':regex})\n",
        "reviews = [result.text for result in results]"
      ],
      "metadata": {
        "id": "9lBApRGPSiBU"
      },
      "execution_count": 23,
      "outputs": []
    },
    {
      "cell_type": "code",
      "source": [
        "results"
      ],
      "metadata": {
        "colab": {
          "base_uri": "https://localhost:8080/"
        },
        "id": "MJG3GvvWXdGO",
        "outputId": "e2ac8583-4aa7-42fd-fd51-0e540ac45ab1"
      },
      "execution_count": 24,
      "outputs": [
        {
          "output_type": "execute_result",
          "data": {
            "text/plain": [
              "[<p class=\"comment__09f24__gu0rG css-qgunke\"><span class=\" raw__09f24__T4Ezm\" lang=\"en\">If you love thick pizza, Detroit style pizza from 8MilePi is the way to go! So cheesy and filled with toppings. Smog pizza is my fav. Super convenient to pick up from this cloud kitchen location. They also have yummy wings and a packed chopped salad if you want other options. Their pizzas are huge and are so filling for lunch or dinner.</span></p>,\n",
              " <p class=\"comment__09f24__ZU8MN truncated__09f24__lSBbT css-qgunke\"><span class=\" css-qgunke\"><span class=\" raw__09f24__T4Ezm\">Hi Farrah, great to hear that you enjoy our SMOG pizza! We appreciate the kind review.</span></span></p>,\n",
              " <p class=\"comment__09f24__gu0rG css-qgunke\"><span class=\" raw__09f24__T4Ezm\" lang=\"en\">First time trying Detroit-style pizza and I'm def a fan of it! These pizzas are thick with a chewy and slightly crisp crust. I was full from just eating two slices! I got the Smog and Fun Guy Forno pizza, both were delicious!<br/><br/>I also tried the cheesy bread sticks and bbq wings. Big fan of the cheesy bread sticks, especially the crispy cheese edges.</span></p>,\n",
              " <p class=\"comment__09f24__ZU8MN truncated__09f24__lSBbT css-qgunke\"><span class=\" css-qgunke\"><span class=\" raw__09f24__T4Ezm\">Hi Kristine, so great to hear that you enjoyed our food! We appreciate the kind review.</span></span></p>,\n",
              " <p class=\"comment__09f24__gu0rG css-qgunke\"><span class=\" raw__09f24__T4Ezm\" lang=\"en\">In the past year and a half, I've fallen in love with Detroit-style pizza and been on the hunt to try every place SF, which is what lead me to 8 MilePi! <br/><br/>8 MilePI offers both Detroit-style and Sicilian pizza, but of course I had to go with the Detroit. I love bbq chicken pizzas, so that one immediately got my attention and placed my order for that. The bbq sauce was on the bitter side, but just wish it was a little sweeter and tangy because the bitterness of the sauce overpowered the rest of ingredients and was the prominent flavor. The crust fell short of expectations as well. It wasn't the crispy, cheesy edges that i've had with previous Detroit-style pizzas. The crust as a whole had more of the sicilian texture rather than the Detroit.  <br/><br/>The pizza itself is huge! The regular size was $28, and I was full off 2 1/2 slices. One regular sized pizza would be good for 2-4 people. <br/><br/>The packaging can use some improvement. I ordered a regular size za' but it came delivered in their larger sized box. During the delivery, the pizza slid from side to side, smushing the pizza, which wasn't the end of the world, but seems like a simple fix with the right sized box. I didn't have access to my car at the time, which is why I opted for delivery. Delivery is something I don't typically do, but since it was less than 10 minutes from where I was staying, I figured the transit time would be chill. Pizza was still hot, so that's a win. <br/><br/>Overall, if you are looking to compare Detroit style pizzas in the area, I'd say it's still worth a try. Everyone's palate is different, so you'll never know if you like it until you try it for yourself! Next time around I think i'll stick to a more classic style and see how that goes, plus their jalapeno popper breadsticks looks delicious!</span></p>,\n",
              " <p class=\"comment__09f24__gu0rG css-qgunke\"><span class=\" raw__09f24__T4Ezm\" lang=\"en\">3.5 stars<br/>Ordered via door dash and some of the issues we had definitely due to delivery. Though we've ordered from square pie guys and pizza squared through delivery and didn't have the same issues. <br/><br/>We ordered a Detroit style pepperoni pizza, salad, cheesecake, and two canned sodas. Best thing about the pizza was that it was bigger than competitors but arrived COLD and with the box smashed in. After peeling the box off the cheese, we reheated a few slices in the oven. The pizza sort of reminded me of \"grandma\" slices in NYC, not Detroit style pizza. We actually wondered if they made a Sicilian instead of a Detroit? It was missing that great crispy pan edge. <br/><br/>Salad (called the Wolverine) was tasty and came with a great spicy dressing. Would order it again for sure!<br/><br/>Sadly, the pizza missed the mark for us so we couldn't recommend 8mile for Detroit Style pizza-other places we've tried have been better.</span></p>,\n",
              " <p class=\"comment__09f24__gu0rG css-qgunke\"><span class=\" raw__09f24__T4Ezm\" lang=\"en\">The ultimate Detroit style pizzas with that decadent, super thick and chewy pizza crust! It's really hard to go wrong with this, particularly if you like thick crust pizzas  Have to mention that the portions are huuuge and 3 of these pizzas can feed a part of 10-12 comfortably as it can be quite heavy, so mostly each person ends up having 2 pcs on an average. Hence, for a huge party it's totally worth it!<br/><br/>Favs: Fire House Special Pizza with honey drizzle was such an incredible combo (I got vegan cheese for this one and I loved it..it's a very generous topping unlike some places who just pour a little), Green Top Pizza with a very flavorful pesto sauce, the Jalapeño popper breadsticks that comes with a generous portion of Marinara sauce (around the size of a big bowl), the BBQ wings were really good too, and 2/3rds of the crowd liked the New York Style Cheesecake. All in all, it was a really successful meal with many happy stomachs!</span></p>,\n",
              " <p class=\"comment__09f24__ZU8MN truncated__09f24__lSBbT css-qgunke\"><span class=\" css-qgunke\"><span class=\" raw__09f24__T4Ezm\">Hi Sonam, thank you for sharing this great feedback with us!</span></span></p>,\n",
              " <p class=\"comment__09f24__gu0rG css-qgunke\"><span class=\" raw__09f24__T4Ezm\" lang=\"en\">So we tried this again after a not so great first experience. Please see prior review. We used the credit given to us to order again. We placed an order for 3 orders of wings. We were given a pickup time between 20-35 minutes. We walked to pick the order up and arrived on time. We checked in and we're instructed that our order would be ready in 2 minutes. After waiting 10 - 15 minutes, we inquired with staff at the cloud kitchen. We're told it was delayed and they were making it now. I just want to say that delay, upon delay and confusion lead to us waiting over 45 minutes. It took 1 hour and 8 minutes to finally make our 18 chicken wings. I say order at your peril from this place. We tried to be open minded, but the operations are a mess. And I feel that there is zero accountability with the way this is set up. And to top it all off...I gave a tip when I ordered. What a mess. DO NOT ORDER FROM HERE!</span></p>,\n",
              " <p class=\"comment__09f24__gu0rG truncated__09f24__PrNXf css-qgunke\"><span class=\" raw__09f24__T4Ezm\" lang=\"en\">This was a totally disappointing experience. Quality of the pizza is very poor. Ordered Detroit style with extra pepperoni and extra sauce. Definitely not Detroit style and virtually no sauce. The crust is underdone and very gummy. The only redeeming thing was the pepperoni was tasty, I would stay very far away from this place. And paid $38? Total rip-off.</span></p>,\n",
              " <p class=\"comment__09f24__gu0rG css-qgunke\"><span class=\" raw__09f24__T4Ezm\" lang=\"en\">I got firehouse special and Motown Meat lover- both Detroit style! They provided ranch and honey which I ended up drizzling on my pizza and OMG that was a game changer hahah. From the sweet, salty and spicy! I was getting all the flavors. I will def be coming back to try their other pizzas!</span></p>,\n",
              " <p class=\"comment__09f24__ZU8MN truncated__09f24__lSBbT css-qgunke\"><span class=\" css-qgunke\"><span class=\" raw__09f24__T4Ezm\">Hi Alicia, great to hear that you enjoyed our Detroit style pies! We appreciate the kind feedback.</span></span></p>,\n",
              " <p class=\"comment__09f24__gu0rG css-qgunke\"><span class=\" raw__09f24__T4Ezm\" lang=\"en\">This pizza was straight up nasty.<br/><br/>I ordered a Detroit style Motown Meat Lover.  I paid for extra pepperoni on top.<br/><br/>I eat a lot of Detroit style from a different store in the area.  This one said they had brick cheese.  I got excited, and decided to give them a chance.<br/><br/>Look at that pizza.  Most of the slices have one piece of pepperoni, on a meat lovers' which paid for extra pepperoni.  One of them has zero.<br/><br/>No, it's not under the cheese.  This also has no brick cheese.  This is that greasy, fall apart bulk mozzarella that comes in a pre-shredded bag from the food service grocery store.  It's not even browned.  It's just a big gooey mess.<br/><br/>Two of these slices had no sauce at all.  The toppings barely exist.  When it arrived, the pieces had been pulled apart.<br/><br/>The cheese doesn't go up to the edge.  That burnt cheese at the edge that defines a detroit style pie is completely missing.<br/><br/>The dough is powdered dough from a bag.  Your teeth squeak when you bite into it.  There's twice as much as there should be.  It's a loaf of bad bread with some cheese on it, a couple of toppings here and there, and maybe a dab of sauce.<br/><br/>It's undercooked.  The dough is still moist in spots.  The cardboard stuck to the pizza and tore up.  Not to the cheese - to the *crust*.  I've never seen that before.<br/><br/>My postmate texted me when they showed up \"it's not even made yet.\"  The pizza shop didn't finish making my pizza until ten minutes after it was supposed to be delivered.<br/><br/>There's a big vertical gash on one side.  I don't even know why.<br/><br/>The pan is supposed to be oiled in a Detroit Style, like with sfincione, so that it fries.  That was not done.<br/><br/>This is just some jerk who watched a YouTube and decided to start a shop.  They have no idea what Detroit Style pizza is, and even as inauthentic, this just isn't good pizza.  I didn't even finish it.  I'm a fat guy, and I didn't finish a pizza.<br/><br/>This is not a thirty one dollar pizza.<br/><br/>I would have been angry paying ten dollars for this loaf of dough.<br/><br/>Strongly recommended against.  <br/><br/>This was gross.<br/><br/>Look at that.  That's a meat lover's with extra pepperoni.  Count the slices.  There were none under the cheese.</span></p>,\n",
              " <p class=\"comment__09f24__gu0rG css-qgunke\"><span class=\" raw__09f24__T4Ezm\" lang=\"en\">The pizza was thick, delicious, and super fresh. The entire family, even the picky kids couldn't stop raving. The pizza is super filling!</span></p>,\n",
              " <p class=\"comment__09f24__ZU8MN truncated__09f24__lSBbT css-qgunke\"><span class=\" css-qgunke\"><span class=\" raw__09f24__T4Ezm\">Hi Cathy, great to hear that you &amp; your kids enjoyed our pizza! We appreciate the feedback and the kind review.</span></span></p>,\n",
              " <p class=\"comment__09f24__gu0rG css-qgunke\"><span class=\" raw__09f24__T4Ezm\" lang=\"en\">I got the Motown Meat Lover. It was very good. We plan on trying a few others. Good prices too.</span></p>,\n",
              " <p class=\"comment__09f24__ZU8MN truncated__09f24__lSBbT css-qgunke\"><span class=\" css-qgunke\"><span class=\" raw__09f24__T4Ezm\">Hi Anne, great to hear that you enjoyed our Motown Meat Lover pizza! We appreciate your business and the kind review.</span></span></p>]"
            ]
          },
          "metadata": {},
          "execution_count": 24
        }
      ]
    },
    {
      "cell_type": "code",
      "source": [
        "results[0].text"
      ],
      "metadata": {
        "colab": {
          "base_uri": "https://localhost:8080/",
          "height": 53
        },
        "id": "gZTh4UcVXc-t",
        "outputId": "f85d8471-6600-4a90-ef9b-00bc82c0cf7b"
      },
      "execution_count": 25,
      "outputs": [
        {
          "output_type": "execute_result",
          "data": {
            "text/plain": [
              "'If you love thick pizza, Detroit style pizza from 8MilePi is the way to go! So cheesy and filled with toppings. Smog pizza is my fav. Super convenient to pick up from this cloud kitchen location. They also have yummy wings and a packed chopped salad if you want other options. Their pizzas are huge and are so filling for lunch or dinner.'"
            ],
            "application/vnd.google.colaboratory.intrinsic+json": {
              "type": "string"
            }
          },
          "metadata": {},
          "execution_count": 25
        }
      ]
    },
    {
      "cell_type": "code",
      "source": [
        "reviews"
      ],
      "metadata": {
        "colab": {
          "base_uri": "https://localhost:8080/"
        },
        "id": "zColGmyDXcdq",
        "outputId": "cd459f8d-262d-42f7-a8f2-8fe19a22a5a2"
      },
      "execution_count": 26,
      "outputs": [
        {
          "output_type": "execute_result",
          "data": {
            "text/plain": [
              "['If you love thick pizza, Detroit style pizza from 8MilePi is the way to go! So cheesy and filled with toppings. Smog pizza is my fav. Super convenient to pick up from this cloud kitchen location. They also have yummy wings and a packed chopped salad if you want other options. Their pizzas are huge and are so filling for lunch or dinner.',\n",
              " 'Hi Farrah, great to hear that you enjoy our SMOG pizza! We appreciate the kind review.',\n",
              " \"First time trying Detroit-style pizza and I'm def a fan of it! These pizzas are thick with a chewy and slightly crisp crust. I was full from just eating two slices! I got the Smog and Fun Guy Forno pizza, both were delicious!I also tried the cheesy bread sticks and bbq wings. Big fan of the cheesy bread sticks, especially the crispy cheese edges.\",\n",
              " 'Hi Kristine, so great to hear that you enjoyed our food! We appreciate the kind review.',\n",
              " \"In the past year and a half, I've fallen in love with Detroit-style pizza and been on the hunt to try every place SF, which is what lead me to 8 MilePi! 8 MilePI offers both Detroit-style and Sicilian pizza, but of course I had to go with the Detroit. I love bbq chicken pizzas, so that one immediately got my attention and placed my order for that. The bbq sauce was on the bitter side, but just wish it was a little sweeter and tangy because the bitterness of the sauce overpowered the rest of ingredients and was the prominent flavor. The crust fell short of expectations as well. It wasn't the crispy, cheesy edges that i've had with previous Detroit-style pizzas. The crust as a whole had more of the sicilian texture rather than the Detroit. \\xa0The pizza itself is huge! The regular size was $28, and I was full off 2 1/2 slices. One regular sized pizza would be good for 2-4 people. The packaging can use some improvement. I ordered a regular size za' but it came delivered in their larger sized box. During the delivery, the pizza slid from side to side, smushing the pizza, which wasn't the end of the world, but seems like a simple fix with the right sized box. I didn't have access to my car at the time, which is why I opted for delivery. Delivery is something I don't typically do, but since it was less than 10 minutes from where I was staying, I figured the transit time would be chill. Pizza was still hot, so that's a win. Overall, if you are looking to compare Detroit style pizzas in the area, I'd say it's still worth a try. Everyone's palate is different, so you'll never know if you like it until you try it for yourself! Next time around I think i'll stick to a more classic style and see how that goes, plus their jalapeno popper breadsticks looks delicious!\",\n",
              " '3.5 starsOrdered via door dash and some of the issues we had definitely due to delivery. Though we\\'ve ordered from square pie guys and pizza squared through delivery and didn\\'t have the same issues. We ordered a Detroit style pepperoni pizza, salad, cheesecake, and two canned sodas. Best thing about the pizza was that it was bigger than competitors but arrived COLD and with the box smashed in. After peeling the box off the cheese, we reheated a few slices in the oven. The pizza sort of reminded me of \"grandma\" slices in NYC, not Detroit style pizza. We actually wondered if they made a Sicilian instead of a Detroit? It was missing that great crispy pan edge. Salad (called the Wolverine) was tasty and came with a great spicy dressing. Would order it again for sure!Sadly, the pizza missed the mark for us so we couldn\\'t recommend 8mile for Detroit Style pizza-other places we\\'ve tried have been better.',\n",
              " \"The ultimate Detroit style pizzas with that decadent, super thick and chewy pizza crust! It's really hard to go wrong with this, particularly if you like thick crust pizzas \\xa0Have to mention that the portions are huuuge and 3 of these pizzas can feed a part of 10-12 comfortably as it can be quite heavy, so mostly each person ends up having 2 pcs on an average. Hence, for a huge party it's totally worth it!Favs: Fire House Special Pizza with honey drizzle was such an incredible combo (I got vegan cheese for this one and I loved it..it's a very generous topping unlike some places who just pour a little), Green Top Pizza with a very flavorful pesto sauce, the Jalapeño popper breadsticks that comes with a generous portion of Marinara sauce (around the size of a big bowl), the BBQ wings were really good too, and 2/3rds of the crowd liked the New York Style Cheesecake. All in all, it was a really successful meal with many happy stomachs!\",\n",
              " 'Hi Sonam, thank you for sharing this great feedback with us!',\n",
              " \"So we tried this again after a not so great first experience. Please see prior review. We used the credit given to us to order again. We placed an order for 3 orders of wings. We were given a pickup time between 20-35 minutes. We walked to pick the order up and arrived on time. We checked in and we're instructed that our order would be ready in 2 minutes. After waiting 10 - 15 minutes, we inquired with staff at the cloud kitchen. We're told it was delayed and they were making it now. I just want to say that delay, upon delay and confusion lead to us waiting over 45 minutes. It took 1 hour and 8 minutes to finally make our 18 chicken wings. I say order at your peril from this place. We tried to be open minded, but the operations are a mess. And I feel that there is zero accountability with the way this is set up. And to top it all off...I gave a tip when I ordered. What a mess. DO NOT ORDER FROM HERE!\",\n",
              " 'This was a totally disappointing experience. Quality of the pizza is very poor. Ordered Detroit style with extra pepperoni and extra sauce. Definitely not Detroit style and virtually no sauce. The crust is underdone and very gummy. The only redeeming thing was the pepperoni was tasty, I would stay very far away from this place. And paid $38? Total rip-off.',\n",
              " 'I got firehouse special and Motown Meat lover- both Detroit style! They provided ranch and honey which I ended up drizzling on my pizza and OMG that was a game changer hahah. From the sweet, salty and spicy! I was getting all the flavors. I will def be coming back to try their other pizzas!',\n",
              " 'Hi Alicia, great to hear that you enjoyed our Detroit style pies! We appreciate the kind feedback.',\n",
              " 'This pizza was straight up nasty.I ordered a Detroit style Motown Meat Lover. \\xa0I paid for extra pepperoni on top.I eat a lot of Detroit style from a different store in the area. \\xa0This one said they had brick cheese. \\xa0I got excited, and decided to give them a chance.Look at that pizza. \\xa0Most of the slices have one piece of pepperoni, on a meat lovers\\' which paid for extra pepperoni. \\xa0One of them has zero.No, it\\'s not under the cheese. \\xa0This also has no brick cheese. \\xa0This is that greasy, fall apart bulk mozzarella that comes in a pre-shredded bag from the food service grocery store. \\xa0It\\'s not even browned. \\xa0It\\'s just a big gooey mess.Two of these slices had no sauce at all. \\xa0The toppings barely exist. \\xa0When it arrived, the pieces had been pulled apart.The cheese doesn\\'t go up to the edge. \\xa0That burnt cheese at the edge that defines a detroit style pie is completely missing.The dough is powdered dough from a bag. \\xa0Your teeth squeak when you bite into it. \\xa0There\\'s twice as much as there should be. \\xa0It\\'s a loaf of bad bread with some cheese on it, a couple of toppings here and there, and maybe a dab of sauce.It\\'s undercooked. \\xa0The dough is still moist in spots. \\xa0The cardboard stuck to the pizza and tore up. \\xa0Not to the cheese - to the *crust*. \\xa0I\\'ve never seen that before.My postmate texted me when they showed up \"it\\'s not even made yet.\" \\xa0The pizza shop didn\\'t finish making my pizza until ten minutes after it was supposed to be delivered.There\\'s a big vertical gash on one side. \\xa0I don\\'t even know why.The pan is supposed to be oiled in a Detroit Style, like with sfincione, so that it fries. \\xa0That was not done.This is just some jerk who watched a YouTube and decided to start a shop. \\xa0They have no idea what Detroit Style pizza is, and even as inauthentic, this just isn\\'t good pizza. \\xa0I didn\\'t even finish it. \\xa0I\\'m a fat guy, and I didn\\'t finish a pizza.This is not a thirty one dollar pizza.I would have been angry paying ten dollars for this loaf of dough.Strongly recommended against. \\xa0This was gross.Look at that. \\xa0That\\'s a meat lover\\'s with extra pepperoni. \\xa0Count the slices. \\xa0There were none under the cheese.',\n",
              " \"The pizza was thick, delicious, and super fresh. The entire family, even the picky kids couldn't stop raving. The pizza is super filling!\",\n",
              " 'Hi Cathy, great to hear that you & your kids enjoyed our pizza! We appreciate the feedback and the kind review.',\n",
              " 'I got the Motown Meat Lover. It was very good. We plan on trying a few others. Good prices too.',\n",
              " 'Hi Anne, great to hear that you enjoyed our Motown Meat Lover pizza! We appreciate your business and the kind review.']"
            ]
          },
          "metadata": {},
          "execution_count": 26
        }
      ]
    },
    {
      "cell_type": "markdown",
      "source": [
        "## 5. Load Reviews into Dataframe and score"
      ],
      "metadata": {
        "id": "YK1B2aBdSQt-"
      }
    },
    {
      "cell_type": "code",
      "source": [
        "df = pd.DataFrame(np.array(reviews),columns = ['review'])"
      ],
      "metadata": {
        "id": "96L0P-1xgK52"
      },
      "execution_count": 27,
      "outputs": []
    },
    {
      "cell_type": "code",
      "source": [
        "df['review'].iloc[0]"
      ],
      "metadata": {
        "colab": {
          "base_uri": "https://localhost:8080/",
          "height": 53
        },
        "id": "wNeg0N-Cgdtb",
        "outputId": "fc4d3527-ec2d-4225-ba22-aff512b3b671"
      },
      "execution_count": 28,
      "outputs": [
        {
          "output_type": "execute_result",
          "data": {
            "text/plain": [
              "'If you love thick pizza, Detroit style pizza from 8MilePi is the way to go! So cheesy and filled with toppings. Smog pizza is my fav. Super convenient to pick up from this cloud kitchen location. They also have yummy wings and a packed chopped salad if you want other options. Their pizzas are huge and are so filling for lunch or dinner.'"
            ],
            "application/vnd.google.colaboratory.intrinsic+json": {
              "type": "string"
            }
          },
          "metadata": {},
          "execution_count": 28
        }
      ]
    },
    {
      "cell_type": "code",
      "source": [
        "# creating function for the steps we have carried out earlier\n",
        "def sentiment_score(review):\n",
        "  tokens = tokenizer.encode(review, return_tensors = 'pt')\n",
        "  result = model(tokens)\n",
        "  return int(torch.argmax(result.logits))+1\n"
      ],
      "metadata": {
        "id": "HF-stXvOgdj9"
      },
      "execution_count": 30,
      "outputs": []
    },
    {
      "cell_type": "markdown",
      "source": [
        "Above we have created a function that encapsulates the sentiment pipeline which will make it easier to process multiple strings. We will use it for each review in dataframe."
      ],
      "metadata": {
        "id": "icWAoYnWhoQM"
      }
    },
    {
      "cell_type": "code",
      "source": [
        "sentiment_score(df['review'].iloc[0])"
      ],
      "metadata": {
        "colab": {
          "base_uri": "https://localhost:8080/"
        },
        "id": "bK_d-g94gdZg",
        "outputId": "c9b111d6-46f7-4515-a708-0e6ac9d20892"
      },
      "execution_count": 31,
      "outputs": [
        {
          "output_type": "execute_result",
          "data": {
            "text/plain": [
              "5"
            ]
          },
          "metadata": {},
          "execution_count": 31
        }
      ]
    },
    {
      "cell_type": "code",
      "source": [
        "df['sentiment'] = df['review'].apply(lambda x: sentiment_score(x[:512]))"
      ],
      "metadata": {
        "id": "6598JQHNgdP4"
      },
      "execution_count": 32,
      "outputs": []
    },
    {
      "cell_type": "code",
      "source": [
        "df"
      ],
      "metadata": {
        "colab": {
          "base_uri": "https://localhost:8080/",
          "height": 582
        },
        "id": "bsedkiaBgdFx",
        "outputId": "af5cb41e-6439-4dbc-aff5-928c1f3991ad"
      },
      "execution_count": 33,
      "outputs": [
        {
          "output_type": "execute_result",
          "data": {
            "text/plain": [
              "                                               review  sentiment\n",
              "0   If you love thick pizza, Detroit style pizza f...          5\n",
              "1   Hi Farrah, great to hear that you enjoy our SM...          4\n",
              "2   First time trying Detroit-style pizza and I'm ...          5\n",
              "3   Hi Kristine, so great to hear that you enjoyed...          5\n",
              "4   In the past year and a half, I've fallen in lo...          4\n",
              "5   3.5 starsOrdered via door dash and some of the...          3\n",
              "6   The ultimate Detroit style pizzas with that de...          5\n",
              "7   Hi Sonam, thank you for sharing this great fee...          5\n",
              "8   So we tried this again after a not so great fi...          3\n",
              "9   This was a totally disappointing experience. Q...          1\n",
              "10  I got firehouse special and Motown Meat lover-...          5\n",
              "11  Hi Alicia, great to hear that you enjoyed our ...          4\n",
              "12  This pizza was straight up nasty.I ordered a D...          2\n",
              "13  The pizza was thick, delicious, and super fres...          5\n",
              "14  Hi Cathy, great to hear that you & your kids e...          4\n",
              "15  I got the Motown Meat Lover. It was very good....          4\n",
              "16  Hi Anne, great to hear that you enjoyed our Mo...          5"
            ],
            "text/html": [
              "\n",
              "  <div id=\"df-4d74a12c-eab1-4ad7-acae-595ec8d0095a\">\n",
              "    <div class=\"colab-df-container\">\n",
              "      <div>\n",
              "<style scoped>\n",
              "    .dataframe tbody tr th:only-of-type {\n",
              "        vertical-align: middle;\n",
              "    }\n",
              "\n",
              "    .dataframe tbody tr th {\n",
              "        vertical-align: top;\n",
              "    }\n",
              "\n",
              "    .dataframe thead th {\n",
              "        text-align: right;\n",
              "    }\n",
              "</style>\n",
              "<table border=\"1\" class=\"dataframe\">\n",
              "  <thead>\n",
              "    <tr style=\"text-align: right;\">\n",
              "      <th></th>\n",
              "      <th>review</th>\n",
              "      <th>sentiment</th>\n",
              "    </tr>\n",
              "  </thead>\n",
              "  <tbody>\n",
              "    <tr>\n",
              "      <th>0</th>\n",
              "      <td>If you love thick pizza, Detroit style pizza f...</td>\n",
              "      <td>5</td>\n",
              "    </tr>\n",
              "    <tr>\n",
              "      <th>1</th>\n",
              "      <td>Hi Farrah, great to hear that you enjoy our SM...</td>\n",
              "      <td>4</td>\n",
              "    </tr>\n",
              "    <tr>\n",
              "      <th>2</th>\n",
              "      <td>First time trying Detroit-style pizza and I'm ...</td>\n",
              "      <td>5</td>\n",
              "    </tr>\n",
              "    <tr>\n",
              "      <th>3</th>\n",
              "      <td>Hi Kristine, so great to hear that you enjoyed...</td>\n",
              "      <td>5</td>\n",
              "    </tr>\n",
              "    <tr>\n",
              "      <th>4</th>\n",
              "      <td>In the past year and a half, I've fallen in lo...</td>\n",
              "      <td>4</td>\n",
              "    </tr>\n",
              "    <tr>\n",
              "      <th>5</th>\n",
              "      <td>3.5 starsOrdered via door dash and some of the...</td>\n",
              "      <td>3</td>\n",
              "    </tr>\n",
              "    <tr>\n",
              "      <th>6</th>\n",
              "      <td>The ultimate Detroit style pizzas with that de...</td>\n",
              "      <td>5</td>\n",
              "    </tr>\n",
              "    <tr>\n",
              "      <th>7</th>\n",
              "      <td>Hi Sonam, thank you for sharing this great fee...</td>\n",
              "      <td>5</td>\n",
              "    </tr>\n",
              "    <tr>\n",
              "      <th>8</th>\n",
              "      <td>So we tried this again after a not so great fi...</td>\n",
              "      <td>3</td>\n",
              "    </tr>\n",
              "    <tr>\n",
              "      <th>9</th>\n",
              "      <td>This was a totally disappointing experience. Q...</td>\n",
              "      <td>1</td>\n",
              "    </tr>\n",
              "    <tr>\n",
              "      <th>10</th>\n",
              "      <td>I got firehouse special and Motown Meat lover-...</td>\n",
              "      <td>5</td>\n",
              "    </tr>\n",
              "    <tr>\n",
              "      <th>11</th>\n",
              "      <td>Hi Alicia, great to hear that you enjoyed our ...</td>\n",
              "      <td>4</td>\n",
              "    </tr>\n",
              "    <tr>\n",
              "      <th>12</th>\n",
              "      <td>This pizza was straight up nasty.I ordered a D...</td>\n",
              "      <td>2</td>\n",
              "    </tr>\n",
              "    <tr>\n",
              "      <th>13</th>\n",
              "      <td>The pizza was thick, delicious, and super fres...</td>\n",
              "      <td>5</td>\n",
              "    </tr>\n",
              "    <tr>\n",
              "      <th>14</th>\n",
              "      <td>Hi Cathy, great to hear that you &amp; your kids e...</td>\n",
              "      <td>4</td>\n",
              "    </tr>\n",
              "    <tr>\n",
              "      <th>15</th>\n",
              "      <td>I got the Motown Meat Lover. It was very good....</td>\n",
              "      <td>4</td>\n",
              "    </tr>\n",
              "    <tr>\n",
              "      <th>16</th>\n",
              "      <td>Hi Anne, great to hear that you enjoyed our Mo...</td>\n",
              "      <td>5</td>\n",
              "    </tr>\n",
              "  </tbody>\n",
              "</table>\n",
              "</div>\n",
              "      <button class=\"colab-df-convert\" onclick=\"convertToInteractive('df-4d74a12c-eab1-4ad7-acae-595ec8d0095a')\"\n",
              "              title=\"Convert this dataframe to an interactive table.\"\n",
              "              style=\"display:none;\">\n",
              "        \n",
              "  <svg xmlns=\"http://www.w3.org/2000/svg\" height=\"24px\"viewBox=\"0 0 24 24\"\n",
              "       width=\"24px\">\n",
              "    <path d=\"M0 0h24v24H0V0z\" fill=\"none\"/>\n",
              "    <path d=\"M18.56 5.44l.94 2.06.94-2.06 2.06-.94-2.06-.94-.94-2.06-.94 2.06-2.06.94zm-11 1L8.5 8.5l.94-2.06 2.06-.94-2.06-.94L8.5 2.5l-.94 2.06-2.06.94zm10 10l.94 2.06.94-2.06 2.06-.94-2.06-.94-.94-2.06-.94 2.06-2.06.94z\"/><path d=\"M17.41 7.96l-1.37-1.37c-.4-.4-.92-.59-1.43-.59-.52 0-1.04.2-1.43.59L10.3 9.45l-7.72 7.72c-.78.78-.78 2.05 0 2.83L4 21.41c.39.39.9.59 1.41.59.51 0 1.02-.2 1.41-.59l7.78-7.78 2.81-2.81c.8-.78.8-2.07 0-2.86zM5.41 20L4 18.59l7.72-7.72 1.47 1.35L5.41 20z\"/>\n",
              "  </svg>\n",
              "      </button>\n",
              "      \n",
              "  <style>\n",
              "    .colab-df-container {\n",
              "      display:flex;\n",
              "      flex-wrap:wrap;\n",
              "      gap: 12px;\n",
              "    }\n",
              "\n",
              "    .colab-df-convert {\n",
              "      background-color: #E8F0FE;\n",
              "      border: none;\n",
              "      border-radius: 50%;\n",
              "      cursor: pointer;\n",
              "      display: none;\n",
              "      fill: #1967D2;\n",
              "      height: 32px;\n",
              "      padding: 0 0 0 0;\n",
              "      width: 32px;\n",
              "    }\n",
              "\n",
              "    .colab-df-convert:hover {\n",
              "      background-color: #E2EBFA;\n",
              "      box-shadow: 0px 1px 2px rgba(60, 64, 67, 0.3), 0px 1px 3px 1px rgba(60, 64, 67, 0.15);\n",
              "      fill: #174EA6;\n",
              "    }\n",
              "\n",
              "    [theme=dark] .colab-df-convert {\n",
              "      background-color: #3B4455;\n",
              "      fill: #D2E3FC;\n",
              "    }\n",
              "\n",
              "    [theme=dark] .colab-df-convert:hover {\n",
              "      background-color: #434B5C;\n",
              "      box-shadow: 0px 1px 3px 1px rgba(0, 0, 0, 0.15);\n",
              "      filter: drop-shadow(0px 1px 2px rgba(0, 0, 0, 0.3));\n",
              "      fill: #FFFFFF;\n",
              "    }\n",
              "  </style>\n",
              "\n",
              "      <script>\n",
              "        const buttonEl =\n",
              "          document.querySelector('#df-4d74a12c-eab1-4ad7-acae-595ec8d0095a button.colab-df-convert');\n",
              "        buttonEl.style.display =\n",
              "          google.colab.kernel.accessAllowed ? 'block' : 'none';\n",
              "\n",
              "        async function convertToInteractive(key) {\n",
              "          const element = document.querySelector('#df-4d74a12c-eab1-4ad7-acae-595ec8d0095a');\n",
              "          const dataTable =\n",
              "            await google.colab.kernel.invokeFunction('convertToInteractive',\n",
              "                                                     [key], {});\n",
              "          if (!dataTable) return;\n",
              "\n",
              "          const docLinkHtml = 'Like what you see? Visit the ' +\n",
              "            '<a target=\"_blank\" href=https://colab.research.google.com/notebooks/data_table.ipynb>data table notebook</a>'\n",
              "            + ' to learn more about interactive tables.';\n",
              "          element.innerHTML = '';\n",
              "          dataTable['output_type'] = 'display_data';\n",
              "          await google.colab.output.renderOutput(dataTable, element);\n",
              "          const docLink = document.createElement('div');\n",
              "          docLink.innerHTML = docLinkHtml;\n",
              "          element.appendChild(docLink);\n",
              "        }\n",
              "      </script>\n",
              "    </div>\n",
              "  </div>\n",
              "  "
            ]
          },
          "metadata": {},
          "execution_count": 33
        }
      ]
    },
    {
      "cell_type": "markdown",
      "source": [
        "We can run the same script for other restaurants or businesses just by copying the link from Yelp website and paste it into the 'r' variable in importing dataset section.   \n",
        "  \n",
        "Caution:- If the website structure changes in future this can throw an error."
      ],
      "metadata": {
        "id": "9PTN31bsjx4h"
      }
    },
    {
      "cell_type": "markdown",
      "source": [
        "If we want to run the pipeline as script or in an IDE like PyCharm, we need to drop the magic command(!pip) and do so. Just need to remember to install dependencies in our environment."
      ],
      "metadata": {
        "id": "T_MvH4Mpkctq"
      }
    },
    {
      "cell_type": "markdown",
      "source": [
        "## I hope you liked this web scraping and sentiment analysis project.\n",
        "\n",
        "# Thanks"
      ],
      "metadata": {
        "id": "jqP5Z7p5naeT"
      }
    }
  ]
}